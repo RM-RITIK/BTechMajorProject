{
 "cells": [
  {
   "cell_type": "code",
   "execution_count": 2,
   "metadata": {},
   "outputs": [],
   "source": [
    "import numpy as np\n",
    "import pandas as pd"
   ]
  },
  {
   "cell_type": "code",
   "execution_count": 3,
   "metadata": {},
   "outputs": [],
   "source": [
    "bert_emb = pd.read_csv(\"../Embeddings/BertEmbeddings.csv\", index_col = 'words')"
   ]
  },
  {
   "cell_type": "code",
   "execution_count": 4,
   "metadata": {},
   "outputs": [
    {
     "data": {
      "text/html": [
       "<div>\n",
       "<style scoped>\n",
       "    .dataframe tbody tr th:only-of-type {\n",
       "        vertical-align: middle;\n",
       "    }\n",
       "\n",
       "    .dataframe tbody tr th {\n",
       "        vertical-align: top;\n",
       "    }\n",
       "\n",
       "    .dataframe thead th {\n",
       "        text-align: right;\n",
       "    }\n",
       "</style>\n",
       "<table border=\"1\" class=\"dataframe\">\n",
       "  <thead>\n",
       "    <tr style=\"text-align: right;\">\n",
       "      <th></th>\n",
       "      <th>Unnamed: 0</th>\n",
       "      <th>BertEmbeddings</th>\n",
       "    </tr>\n",
       "    <tr>\n",
       "      <th>words</th>\n",
       "      <th></th>\n",
       "      <th></th>\n",
       "    </tr>\n",
       "  </thead>\n",
       "  <tbody>\n",
       "    <tr>\n",
       "      <th>00</th>\n",
       "      <td>0</td>\n",
       "      <td>[-0.3524074852466583, -0.11575441807508469, 0....</td>\n",
       "    </tr>\n",
       "    <tr>\n",
       "      <th>000</th>\n",
       "      <td>1</td>\n",
       "      <td>[-0.8858209252357483, -0.15350110828876495, 0....</td>\n",
       "    </tr>\n",
       "    <tr>\n",
       "      <th>000968</th>\n",
       "      <td>2</td>\n",
       "      <td>[-1.126977801322937, -0.35426339507102966, 0.6...</td>\n",
       "    </tr>\n",
       "    <tr>\n",
       "      <th>00am</th>\n",
       "      <td>3</td>\n",
       "      <td>[-0.2235073745250702, -0.13164833188056946, 0....</td>\n",
       "    </tr>\n",
       "    <tr>\n",
       "      <th>01</th>\n",
       "      <td>4</td>\n",
       "      <td>[-0.3654719293117523, -0.2490902692079544, 0.1...</td>\n",
       "    </tr>\n",
       "  </tbody>\n",
       "</table>\n",
       "</div>"
      ],
      "text/plain": [
       "        Unnamed: 0                                     BertEmbeddings\n",
       "words                                                                \n",
       "00               0  [-0.3524074852466583, -0.11575441807508469, 0....\n",
       "000              1  [-0.8858209252357483, -0.15350110828876495, 0....\n",
       "000968           2  [-1.126977801322937, -0.35426339507102966, 0.6...\n",
       "00am             3  [-0.2235073745250702, -0.13164833188056946, 0....\n",
       "01               4  [-0.3654719293117523, -0.2490902692079544, 0.1..."
      ]
     },
     "execution_count": 4,
     "metadata": {},
     "output_type": "execute_result"
    }
   ],
   "source": [
    "bert_emb.head()"
   ]
  },
  {
   "cell_type": "code",
   "execution_count": 5,
   "metadata": {},
   "outputs": [],
   "source": [
    "deepWalk_emb = pd.read_csv(\"../Embeddings/DeepWalkEmbeddings.csv\", index_col = 'word')"
   ]
  },
  {
   "cell_type": "code",
   "execution_count": 6,
   "metadata": {},
   "outputs": [
    {
     "data": {
      "text/html": [
       "<div>\n",
       "<style scoped>\n",
       "    .dataframe tbody tr th:only-of-type {\n",
       "        vertical-align: middle;\n",
       "    }\n",
       "\n",
       "    .dataframe tbody tr th {\n",
       "        vertical-align: top;\n",
       "    }\n",
       "\n",
       "    .dataframe thead th {\n",
       "        text-align: right;\n",
       "    }\n",
       "</style>\n",
       "<table border=\"1\" class=\"dataframe\">\n",
       "  <thead>\n",
       "    <tr style=\"text-align: right;\">\n",
       "      <th></th>\n",
       "      <th>Unnamed: 0</th>\n",
       "      <th>DeepWalkEmbedding</th>\n",
       "    </tr>\n",
       "    <tr>\n",
       "      <th>word</th>\n",
       "      <th></th>\n",
       "      <th></th>\n",
       "    </tr>\n",
       "  </thead>\n",
       "  <tbody>\n",
       "    <tr>\n",
       "      <th>00</th>\n",
       "      <td>0</td>\n",
       "      <td>[ 9.67689753e-02 -6.61584258e-01  3.71760249e-...</td>\n",
       "    </tr>\n",
       "    <tr>\n",
       "      <th>00am</th>\n",
       "      <td>1</td>\n",
       "      <td>[ 6.50215521e-02 -4.43149209e-01  3.09691370e-...</td>\n",
       "    </tr>\n",
       "    <tr>\n",
       "      <th>05</th>\n",
       "      <td>2</td>\n",
       "      <td>[ 1.62990794e-01 -5.21371782e-01  5.14520586e-...</td>\n",
       "    </tr>\n",
       "    <tr>\n",
       "      <th>11</th>\n",
       "      <td>3</td>\n",
       "      <td>[-8.11143443e-02  2.26955429e-01 -4.17450279e-...</td>\n",
       "    </tr>\n",
       "    <tr>\n",
       "      <th>5am</th>\n",
       "      <td>4</td>\n",
       "      <td>[ 0.17365083 -0.30130932  0.476008    0.28174 ...</td>\n",
       "    </tr>\n",
       "  </tbody>\n",
       "</table>\n",
       "</div>"
      ],
      "text/plain": [
       "      Unnamed: 0                                  DeepWalkEmbedding\n",
       "word                                                               \n",
       "00             0  [ 9.67689753e-02 -6.61584258e-01  3.71760249e-...\n",
       "00am           1  [ 6.50215521e-02 -4.43149209e-01  3.09691370e-...\n",
       "05             2  [ 1.62990794e-01 -5.21371782e-01  5.14520586e-...\n",
       "11             3  [-8.11143443e-02  2.26955429e-01 -4.17450279e-...\n",
       "5am            4  [ 0.17365083 -0.30130932  0.476008    0.28174 ..."
      ]
     },
     "execution_count": 6,
     "metadata": {},
     "output_type": "execute_result"
    }
   ],
   "source": [
    "deepWalk_emb.head()"
   ]
  },
  {
   "cell_type": "code",
   "execution_count": 7,
   "metadata": {},
   "outputs": [],
   "source": [
    "data = pd.read_csv(\"BIO_tagged_dataset.csv\")"
   ]
  },
  {
   "cell_type": "code",
   "execution_count": 8,
   "metadata": {},
   "outputs": [
    {
     "data": {
      "text/html": [
       "<div>\n",
       "<style scoped>\n",
       "    .dataframe tbody tr th:only-of-type {\n",
       "        vertical-align: middle;\n",
       "    }\n",
       "\n",
       "    .dataframe tbody tr th {\n",
       "        vertical-align: top;\n",
       "    }\n",
       "\n",
       "    .dataframe thead th {\n",
       "        text-align: right;\n",
       "    }\n",
       "</style>\n",
       "<table border=\"1\" class=\"dataframe\">\n",
       "  <thead>\n",
       "    <tr style=\"text-align: right;\">\n",
       "      <th></th>\n",
       "      <th>Unnamed: 0</th>\n",
       "      <th>Unnamed: 0.1</th>\n",
       "      <th>text</th>\n",
       "      <th>keys</th>\n",
       "      <th>BIO_tag</th>\n",
       "    </tr>\n",
       "  </thead>\n",
       "  <tbody>\n",
       "    <tr>\n",
       "      <th>0</th>\n",
       "      <td>0</td>\n",
       "      <td>0</td>\n",
       "      <td>Several inorganic flocculating agents, includi...</td>\n",
       "      <td>['Al2(SO4)3,', 'analyzes the main factors', 'C...</td>\n",
       "      <td>O B I O O B B B O O B I O B O O O B I B O O O ...</td>\n",
       "    </tr>\n",
       "    <tr>\n",
       "      <th>1</th>\n",
       "      <td>1</td>\n",
       "      <td>1</td>\n",
       "      <td>Video-oculography (VOG) is one of eye movement...</td>\n",
       "      <td>['accurately estimate the pupil center', 'Cann...</td>\n",
       "      <td>B O O O O B I O O O O O B O O B I B O O O B I ...</td>\n",
       "    </tr>\n",
       "    <tr>\n",
       "      <th>2</th>\n",
       "      <td>2</td>\n",
       "      <td>2</td>\n",
       "      <td>The first-principles calculations are performe...</td>\n",
       "      <td>['Al', 'alloy', 'Brillouin-zone sampling', 'Ca...</td>\n",
       "      <td>O B O O O O O B I O O O O O O B I O O B I O O ...</td>\n",
       "    </tr>\n",
       "    <tr>\n",
       "      <th>3</th>\n",
       "      <td>3</td>\n",
       "      <td>3</td>\n",
       "      <td>Microhardness can be related to other macrosco...</td>\n",
       "      <td>['compression testing', 'derived a direct prop...</td>\n",
       "      <td>B O O O O O O O O O O O O O O B I B O O B O O ...</td>\n",
       "    </tr>\n",
       "    <tr>\n",
       "      <th>4</th>\n",
       "      <td>4</td>\n",
       "      <td>4</td>\n",
       "      <td>We consider finite-time, future (sudden or Big...</td>\n",
       "      <td>['back reaction of conformal quantum fields ne...</td>\n",
       "      <td>O O B B I O O O O O B I O O O O O O O O O O O ...</td>\n",
       "    </tr>\n",
       "  </tbody>\n",
       "</table>\n",
       "</div>"
      ],
      "text/plain": [
       "   Unnamed: 0  Unnamed: 0.1  \\\n",
       "0           0             0   \n",
       "1           1             1   \n",
       "2           2             2   \n",
       "3           3             3   \n",
       "4           4             4   \n",
       "\n",
       "                                                text  \\\n",
       "0  Several inorganic flocculating agents, includi...   \n",
       "1  Video-oculography (VOG) is one of eye movement...   \n",
       "2  The first-principles calculations are performe...   \n",
       "3  Microhardness can be related to other macrosco...   \n",
       "4  We consider finite-time, future (sudden or Big...   \n",
       "\n",
       "                                                keys  \\\n",
       "0  ['Al2(SO4)3,', 'analyzes the main factors', 'C...   \n",
       "1  ['accurately estimate the pupil center', 'Cann...   \n",
       "2  ['Al', 'alloy', 'Brillouin-zone sampling', 'Ca...   \n",
       "3  ['compression testing', 'derived a direct prop...   \n",
       "4  ['back reaction of conformal quantum fields ne...   \n",
       "\n",
       "                                             BIO_tag  \n",
       "0  O B I O O B B B O O B I O B O O O B I B O O O ...  \n",
       "1  B O O O O B I O O O O O B O O B I B O O O B I ...  \n",
       "2  O B O O O O O B I O O O O O O B I O O B I O O ...  \n",
       "3  B O O O O O O O O O O O O O O B I B O O B O O ...  \n",
       "4  O O B B I O O O O O B I O O O O O O O O O O O ...  "
      ]
     },
     "execution_count": 8,
     "metadata": {},
     "output_type": "execute_result"
    }
   ],
   "source": [
    "data.head()"
   ]
  },
  {
   "cell_type": "code",
   "execution_count": 9,
   "metadata": {},
   "outputs": [],
   "source": [
    "import re\n",
    "def findVectorFromCSV(word):\n",
    "    temp = re.sub(' +', ' ', word)\n",
    "    temp_li = list(temp[1:-1].split())\n",
    "    vector = []\n",
    "    for st in temp_li:\n",
    "        vector.append(float(st.rstrip(\"\\n\").rstrip(\",\")))\n",
    "    return np.array(vector)"
   ]
  },
  {
   "cell_type": "code",
   "execution_count": 10,
   "metadata": {},
   "outputs": [
    {
     "data": {
      "text/plain": [
       "768"
      ]
     },
     "execution_count": 10,
     "metadata": {},
     "output_type": "execute_result"
    }
   ],
   "source": [
    "test = findVectorFromCSV(deepWalk_emb.loc['several']['DeepWalkEmbedding'])\n",
    "len(test)"
   ]
  },
  {
   "cell_type": "code",
   "execution_count": 11,
   "metadata": {},
   "outputs": [],
   "source": [
    "class sentenceToEmbedding:\n",
    "    def __init__(self, sentence, embeddedSentence):\n",
    "        self.sentence = sentence\n",
    "        self.embeddedSentence = embeddedSentence"
   ]
  },
  {
   "cell_type": "code",
   "execution_count": 12,
   "metadata": {},
   "outputs": [],
   "source": [
    "def preProcessWords(word):\n",
    "    temp = word.lower().rstrip(\",\").rstrip(\".\").rstrip(\":\").rstrip(\";\").rstrip(\"`\")\n",
    "    words = re.split('[- _ – : /]', temp) \n",
    "    return words"
   ]
  },
  {
   "cell_type": "code",
   "execution_count": 13,
   "metadata": {},
   "outputs": [],
   "source": [
    "emb_data = pd.DataFrame(columns = ['modified_text', 'embeddings', 'keywords'])"
   ]
  },
  {
   "cell_type": "code",
   "execution_count": null,
   "metadata": {},
   "outputs": [
    {
     "name": "stderr",
     "output_type": "stream",
     "text": [
      "/Users/ritik/anaconda3/lib/python3.7/site-packages/ipykernel_launcher.py:15: FutureWarning: Calling a ufunc on non-aligned DataFrames (or DataFrame/Series combination). Currently, the indices are ignored and the result takes the index/columns of the first DataFrame. In the future , the DataFrames/Series will be aligned before applying the ufunc.\n",
      "Convert one of the arguments to a NumPy array (eg 'ufunc(df1, np.asarray(df2)') to keep the current behaviour, or align manually (eg 'df1, df2 = df1.align(df2)') before passing to the ufunc to obtain the future behaviour and silence this warning.\n",
      "  from ipykernel import kernelapp as app\n"
     ]
    },
    {
     "name": "stdout",
     "output_type": "stream",
     "text": [
      "al2(so4)3\n",
      "135.2mg\n",
      "l\n",
      "0.384mg\n",
      "l\n",
      "55%\n",
      "60%\n",
      "(vog)\n",
      "a\n",
      "a\n"
     ]
    }
   ],
   "source": [
    "import gc\n",
    "sent_emb = []\n",
    "i = 0\n",
    "for index, row in data.iterrows():\n",
    "    sentence = row['text']\n",
    "    word_list = list(sentence.split(\" \"))\n",
    "    emb_sen = []\n",
    "    modifiedSen = \"\"\n",
    "    for word in word_list:\n",
    "        w = preProcessWords(word)\n",
    "        for item in w:\n",
    "            try:\n",
    "                v1 = findVectorFromCSV(bert_emb.loc[item]['BertEmbeddings'])       \n",
    "                v2 = findVectorFromCSV(deepWalk_emb.loc[item]['DeepWalkEmbedding'])\n",
    "                final_emb = np.add(bert_emb, deepWalk_emb)\n",
    "                modifiedSen = modifiedSen + item\n",
    "                emb_sen.append(final_emb)\n",
    "            except:\n",
    "                print(item)\n",
    "            \n",
    "            del item\n",
    "            gc.collect()\n",
    "        del w\n",
    "        gc.collect()\n",
    "    \n",
    "    emb_data.loc[i] = [modifiedSen] + [emb_sen] + [row['keys']]\n",
    "    i = i + 1\n",
    "    del emb_sen, modifiedSen, v1, v2\n",
    "    gc.collect()"
   ]
  },
  {
   "cell_type": "code",
   "execution_count": null,
   "metadata": {},
   "outputs": [],
   "source": [
    "deepWalk_emb.loc['metal']['DeepWalkEmbedding']"
   ]
  },
  {
   "cell_type": "code",
   "execution_count": null,
   "metadata": {},
   "outputs": [],
   "source": [
    "findVectorFromCSV(bert_emb.loc['flocculating'].iloc[0]['BERT embeddings'])"
   ]
  },
  {
   "cell_type": "code",
   "execution_count": null,
   "metadata": {},
   "outputs": [],
   "source": [
    "len(bert_emb.loc['spark'])"
   ]
  },
  {
   "cell_type": "code",
   "execution_count": null,
   "metadata": {},
   "outputs": [],
   "source": [
    "re.split('[- _ – : /]', 'gamow–teller') "
   ]
  },
  {
   "cell_type": "code",
   "execution_count": null,
   "metadata": {},
   "outputs": [],
   "source": []
  }
 ],
 "metadata": {
  "kernelspec": {
   "display_name": "Python 3",
   "language": "python",
   "name": "python3"
  },
  "language_info": {
   "codemirror_mode": {
    "name": "ipython",
    "version": 3
   },
   "file_extension": ".py",
   "mimetype": "text/x-python",
   "name": "python",
   "nbconvert_exporter": "python",
   "pygments_lexer": "ipython3",
   "version": "3.7.1"
  }
 },
 "nbformat": 4,
 "nbformat_minor": 2
}
