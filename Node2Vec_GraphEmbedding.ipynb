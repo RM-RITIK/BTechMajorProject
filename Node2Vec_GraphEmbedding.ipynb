{
  "cells": [
    {
      "cell_type": "code",
      "execution_count": 1,
      "metadata": {
        "id": "pBaKHvuJAl9P"
      },
      "outputs": [],
      "source": [
        "import os\n",
        "import numpy as np\n",
        "import pandas as pd\n",
        "from pprint import pprint \n",
        "import  matplotlib.pyplot as plt\n",
        "\n",
        "import networkx as nx"
      ]
    },
    {
      "cell_type": "code",
      "execution_count": 2,
      "metadata": {
        "colab": {
          "base_uri": "https://localhost:8080/"
        },
        "id": "lASXMVuuHl2-",
        "outputId": "e06d99fa-a9fb-47b2-a672-a17636f7be29"
      },
      "outputs": [
        {
          "output_type": "stream",
          "name": "stdout",
          "text": [
            "Mounted at /content/drive\n"
          ]
        }
      ],
      "source": [
        "from google.colab import drive\n",
        "drive.mount('/content/drive')"
      ]
    },
    {
      "cell_type": "code",
      "execution_count": 3,
      "metadata": {
        "id": "BlctTP_5Icq6"
      },
      "outputs": [],
      "source": [
        "data = pd.read_csv(\"/content/drive/MyDrive/dataset.csv\" , index_col=0)"
      ]
    },
    {
      "cell_type": "code",
      "execution_count": 4,
      "metadata": {
        "colab": {
          "base_uri": "https://localhost:8080/"
        },
        "id": "m40EJRfEIqKk",
        "outputId": "73113464-d974-46ea-d84c-35f1d0f54b9f"
      },
      "outputs": [
        {
          "output_type": "execute_result",
          "data": {
            "text/plain": [
              "0      Several inorganic flocculating agents, includi...\n",
              "1      Video-oculography (VOG) is one of eye movement...\n",
              "2      The first-principles calculations are performe...\n",
              "3      Microhardness can be related to other macrosco...\n",
              "4      We consider finite-time, future (sudden or Big...\n",
              "                             ...                        \n",
              "488    With development of performance-based design, ...\n",
              "489    ELRs are particularly attractive for the synth...\n",
              "490    This paper proposes a sentence stress feedback...\n",
              "491    Arrays of TFTs and circuits were fabricated on...\n",
              "492    MicroCT has been applied to AM parts in variou...\n",
              "Name: text, Length: 493, dtype: object"
            ]
          },
          "metadata": {},
          "execution_count": 4
        }
      ],
      "source": [
        "\n",
        "text = data['text']\n",
        "text"
      ]
    },
    {
      "cell_type": "code",
      "execution_count": 5,
      "metadata": {
        "colab": {
          "base_uri": "https://localhost:8080/"
        },
        "id": "pyXZ4tCBIwz7",
        "outputId": "1189dd07-0cb8-4a34-ad0e-4101ec5e07c8"
      },
      "outputs": [
        {
          "output_type": "stream",
          "name": "stdout",
          "text": [
            "[[0 0 0 ... 0 0 0]\n",
            " [0 0 4 ... 0 0 0]\n",
            " [0 4 0 ... 0 0 0]\n",
            " ...\n",
            " [0 0 0 ... 0 1 0]\n",
            " [0 0 0 ... 1 0 0]\n",
            " [0 0 0 ... 0 0 0]]\n"
          ]
        }
      ],
      "source": [
        "from sklearn.feature_extraction.text import CountVectorizer\n",
        "docs = text\n",
        "count_model = CountVectorizer(ngram_range=(1,1)) # default unigram model\n",
        "X = count_model.fit_transform(docs)\n",
        "# X[X > 0] = 1 # run this line if you don't want extra within-text cooccurence (see below)\n",
        "Xc = (X.T * X) # this is co-occurrence matrix in sparse csr format\n",
        "Xc.setdiag(0) # sometimes you want to fill same word cooccurence to 0\n",
        "print(Xc.todense()) # print out matrix in dense format"
      ]
    },
    {
      "cell_type": "code",
      "execution_count": 6,
      "metadata": {
        "colab": {
          "base_uri": "https://localhost:8080/",
          "height": 92
        },
        "id": "mwXqXKdXJdj0",
        "outputId": "00486d7d-5c83-48ae-f09f-f39338450002"
      },
      "outputs": [
        {
          "output_type": "stream",
          "name": "stderr",
          "text": [
            "/usr/local/lib/python3.7/dist-packages/sklearn/utils/deprecation.py:87: FutureWarning: Function get_feature_names is deprecated; get_feature_names is deprecated in 1.0 and will be removed in 1.2. Please use get_feature_names_out instead.\n",
            "  warnings.warn(msg, category=FutureWarning)\n"
          ]
        },
        {
          "output_type": "execute_result",
          "data": {
            "application/vnd.google.colaboratory.intrinsic+json": {
              "type": "string"
            },
            "text/plain": [
              "'appendix'"
            ]
          },
          "metadata": {},
          "execution_count": 6
        }
      ],
      "source": [
        "words = count_model.get_feature_names()\n",
        "words[1000]"
      ]
    },
    {
      "cell_type": "code",
      "execution_count": 7,
      "metadata": {
        "colab": {
          "base_uri": "https://localhost:8080/"
        },
        "id": "kpOKulMNJeWS",
        "outputId": "af580d84-7f6f-4fbf-8944-be5923197b78"
      },
      "outputs": [
        {
          "output_type": "execute_result",
          "data": {
            "text/plain": [
              "(9929, 9929)"
            ]
          },
          "metadata": {},
          "execution_count": 7
        }
      ],
      "source": [
        "Xc.shape\n"
      ]
    },
    {
      "cell_type": "code",
      "execution_count": 8,
      "metadata": {
        "id": "r-SiPAC_JnkK"
      },
      "outputs": [],
      "source": [
        "G = nx.Graph()\n",
        "mat = Xc.toarray()\n",
        "for i in range (0, 9929):\n",
        "    for j in range(0, 9929):\n",
        "        if mat[i][j] != 0:\n",
        "            G.add_edge(words[i], words[j], weight = mat[i][j])"
      ]
    },
    {
      "cell_type": "code",
      "execution_count": 9,
      "metadata": {
        "colab": {
          "base_uri": "https://localhost:8080/"
        },
        "id": "2dpEXL65VB1q",
        "outputId": "d46eff2d-7fb6-479b-feff-0fc41e505c25"
      },
      "outputs": [
        {
          "output_type": "execute_result",
          "data": {
            "text/plain": [
              "<networkx.classes.graph.Graph at 0x7fb2e01a7890>"
            ]
          },
          "metadata": {},
          "execution_count": 9
        }
      ],
      "source": [
        "G"
      ]
    },
    {
      "cell_type": "code",
      "source": [
        "pip install stellargraph\n"
      ],
      "metadata": {
        "colab": {
          "base_uri": "https://localhost:8080/"
        },
        "id": "meT5S8r55xSU",
        "outputId": "a176490a-0729-4a59-bc2b-ef0ca3b647e3"
      },
      "execution_count": 10,
      "outputs": [
        {
          "output_type": "stream",
          "name": "stdout",
          "text": [
            "Collecting stellargraph\n",
            "  Downloading stellargraph-1.2.1-py3-none-any.whl (435 kB)\n",
            "\u001b[K     |████████████████████████████████| 435 kB 4.6 MB/s \n",
            "\u001b[?25hRequirement already satisfied: networkx>=2.2 in /usr/local/lib/python3.7/dist-packages (from stellargraph) (2.6.3)\n",
            "Requirement already satisfied: matplotlib>=2.2 in /usr/local/lib/python3.7/dist-packages (from stellargraph) (3.2.2)\n",
            "Requirement already satisfied: tensorflow>=2.1.0 in /usr/local/lib/python3.7/dist-packages (from stellargraph) (2.7.0)\n",
            "Requirement already satisfied: pandas>=0.24 in /usr/local/lib/python3.7/dist-packages (from stellargraph) (1.3.5)\n",
            "Requirement already satisfied: scikit-learn>=0.20 in /usr/local/lib/python3.7/dist-packages (from stellargraph) (1.0.2)\n",
            "Requirement already satisfied: numpy>=1.14 in /usr/local/lib/python3.7/dist-packages (from stellargraph) (1.19.5)\n",
            "Requirement already satisfied: scipy>=1.1.0 in /usr/local/lib/python3.7/dist-packages (from stellargraph) (1.4.1)\n",
            "Requirement already satisfied: gensim>=3.4.0 in /usr/local/lib/python3.7/dist-packages (from stellargraph) (3.6.0)\n",
            "Requirement already satisfied: smart-open>=1.2.1 in /usr/local/lib/python3.7/dist-packages (from gensim>=3.4.0->stellargraph) (5.2.1)\n",
            "Requirement already satisfied: six>=1.5.0 in /usr/local/lib/python3.7/dist-packages (from gensim>=3.4.0->stellargraph) (1.15.0)\n",
            "Requirement already satisfied: cycler>=0.10 in /usr/local/lib/python3.7/dist-packages (from matplotlib>=2.2->stellargraph) (0.11.0)\n",
            "Requirement already satisfied: python-dateutil>=2.1 in /usr/local/lib/python3.7/dist-packages (from matplotlib>=2.2->stellargraph) (2.8.2)\n",
            "Requirement already satisfied: pyparsing!=2.0.4,!=2.1.2,!=2.1.6,>=2.0.1 in /usr/local/lib/python3.7/dist-packages (from matplotlib>=2.2->stellargraph) (3.0.7)\n",
            "Requirement already satisfied: kiwisolver>=1.0.1 in /usr/local/lib/python3.7/dist-packages (from matplotlib>=2.2->stellargraph) (1.3.2)\n",
            "Requirement already satisfied: pytz>=2017.3 in /usr/local/lib/python3.7/dist-packages (from pandas>=0.24->stellargraph) (2018.9)\n",
            "Requirement already satisfied: threadpoolctl>=2.0.0 in /usr/local/lib/python3.7/dist-packages (from scikit-learn>=0.20->stellargraph) (3.0.0)\n",
            "Requirement already satisfied: joblib>=0.11 in /usr/local/lib/python3.7/dist-packages (from scikit-learn>=0.20->stellargraph) (1.1.0)\n",
            "Requirement already satisfied: grpcio<2.0,>=1.24.3 in /usr/local/lib/python3.7/dist-packages (from tensorflow>=2.1.0->stellargraph) (1.43.0)\n",
            "Requirement already satisfied: opt-einsum>=2.3.2 in /usr/local/lib/python3.7/dist-packages (from tensorflow>=2.1.0->stellargraph) (3.3.0)\n",
            "Requirement already satisfied: wheel<1.0,>=0.32.0 in /usr/local/lib/python3.7/dist-packages (from tensorflow>=2.1.0->stellargraph) (0.37.1)\n",
            "Requirement already satisfied: libclang>=9.0.1 in /usr/local/lib/python3.7/dist-packages (from tensorflow>=2.1.0->stellargraph) (13.0.0)\n",
            "Requirement already satisfied: keras<2.8,>=2.7.0rc0 in /usr/local/lib/python3.7/dist-packages (from tensorflow>=2.1.0->stellargraph) (2.7.0)\n",
            "Requirement already satisfied: h5py>=2.9.0 in /usr/local/lib/python3.7/dist-packages (from tensorflow>=2.1.0->stellargraph) (3.1.0)\n",
            "Requirement already satisfied: tensorflow-io-gcs-filesystem>=0.21.0 in /usr/local/lib/python3.7/dist-packages (from tensorflow>=2.1.0->stellargraph) (0.23.1)\n",
            "Requirement already satisfied: protobuf>=3.9.2 in /usr/local/lib/python3.7/dist-packages (from tensorflow>=2.1.0->stellargraph) (3.17.3)\n",
            "Requirement already satisfied: termcolor>=1.1.0 in /usr/local/lib/python3.7/dist-packages (from tensorflow>=2.1.0->stellargraph) (1.1.0)\n",
            "Requirement already satisfied: typing-extensions>=3.6.6 in /usr/local/lib/python3.7/dist-packages (from tensorflow>=2.1.0->stellargraph) (3.10.0.2)\n",
            "Requirement already satisfied: google-pasta>=0.1.1 in /usr/local/lib/python3.7/dist-packages (from tensorflow>=2.1.0->stellargraph) (0.2.0)\n",
            "Requirement already satisfied: tensorboard~=2.6 in /usr/local/lib/python3.7/dist-packages (from tensorflow>=2.1.0->stellargraph) (2.7.0)\n",
            "Requirement already satisfied: absl-py>=0.4.0 in /usr/local/lib/python3.7/dist-packages (from tensorflow>=2.1.0->stellargraph) (1.0.0)\n",
            "Requirement already satisfied: astunparse>=1.6.0 in /usr/local/lib/python3.7/dist-packages (from tensorflow>=2.1.0->stellargraph) (1.6.3)\n",
            "Requirement already satisfied: wrapt>=1.11.0 in /usr/local/lib/python3.7/dist-packages (from tensorflow>=2.1.0->stellargraph) (1.13.3)\n",
            "Requirement already satisfied: keras-preprocessing>=1.1.1 in /usr/local/lib/python3.7/dist-packages (from tensorflow>=2.1.0->stellargraph) (1.1.2)\n",
            "Requirement already satisfied: flatbuffers<3.0,>=1.12 in /usr/local/lib/python3.7/dist-packages (from tensorflow>=2.1.0->stellargraph) (2.0)\n",
            "Requirement already satisfied: gast<0.5.0,>=0.2.1 in /usr/local/lib/python3.7/dist-packages (from tensorflow>=2.1.0->stellargraph) (0.4.0)\n",
            "Requirement already satisfied: tensorflow-estimator<2.8,~=2.7.0rc0 in /usr/local/lib/python3.7/dist-packages (from tensorflow>=2.1.0->stellargraph) (2.7.0)\n",
            "Requirement already satisfied: cached-property in /usr/local/lib/python3.7/dist-packages (from h5py>=2.9.0->tensorflow>=2.1.0->stellargraph) (1.5.2)\n",
            "Requirement already satisfied: google-auth<3,>=1.6.3 in /usr/local/lib/python3.7/dist-packages (from tensorboard~=2.6->tensorflow>=2.1.0->stellargraph) (1.35.0)\n",
            "Requirement already satisfied: werkzeug>=0.11.15 in /usr/local/lib/python3.7/dist-packages (from tensorboard~=2.6->tensorflow>=2.1.0->stellargraph) (1.0.1)\n",
            "Requirement already satisfied: tensorboard-plugin-wit>=1.6.0 in /usr/local/lib/python3.7/dist-packages (from tensorboard~=2.6->tensorflow>=2.1.0->stellargraph) (1.8.1)\n",
            "Requirement already satisfied: markdown>=2.6.8 in /usr/local/lib/python3.7/dist-packages (from tensorboard~=2.6->tensorflow>=2.1.0->stellargraph) (3.3.6)\n",
            "Requirement already satisfied: requests<3,>=2.21.0 in /usr/local/lib/python3.7/dist-packages (from tensorboard~=2.6->tensorflow>=2.1.0->stellargraph) (2.23.0)\n",
            "Requirement already satisfied: setuptools>=41.0.0 in /usr/local/lib/python3.7/dist-packages (from tensorboard~=2.6->tensorflow>=2.1.0->stellargraph) (57.4.0)\n",
            "Requirement already satisfied: google-auth-oauthlib<0.5,>=0.4.1 in /usr/local/lib/python3.7/dist-packages (from tensorboard~=2.6->tensorflow>=2.1.0->stellargraph) (0.4.6)\n",
            "Requirement already satisfied: tensorboard-data-server<0.7.0,>=0.6.0 in /usr/local/lib/python3.7/dist-packages (from tensorboard~=2.6->tensorflow>=2.1.0->stellargraph) (0.6.1)\n",
            "Requirement already satisfied: rsa<5,>=3.1.4 in /usr/local/lib/python3.7/dist-packages (from google-auth<3,>=1.6.3->tensorboard~=2.6->tensorflow>=2.1.0->stellargraph) (4.8)\n",
            "Requirement already satisfied: cachetools<5.0,>=2.0.0 in /usr/local/lib/python3.7/dist-packages (from google-auth<3,>=1.6.3->tensorboard~=2.6->tensorflow>=2.1.0->stellargraph) (4.2.4)\n",
            "Requirement already satisfied: pyasn1-modules>=0.2.1 in /usr/local/lib/python3.7/dist-packages (from google-auth<3,>=1.6.3->tensorboard~=2.6->tensorflow>=2.1.0->stellargraph) (0.2.8)\n",
            "Requirement already satisfied: requests-oauthlib>=0.7.0 in /usr/local/lib/python3.7/dist-packages (from google-auth-oauthlib<0.5,>=0.4.1->tensorboard~=2.6->tensorflow>=2.1.0->stellargraph) (1.3.0)\n",
            "Requirement already satisfied: importlib-metadata>=4.4 in /usr/local/lib/python3.7/dist-packages (from markdown>=2.6.8->tensorboard~=2.6->tensorflow>=2.1.0->stellargraph) (4.10.1)\n",
            "Requirement already satisfied: zipp>=0.5 in /usr/local/lib/python3.7/dist-packages (from importlib-metadata>=4.4->markdown>=2.6.8->tensorboard~=2.6->tensorflow>=2.1.0->stellargraph) (3.7.0)\n",
            "Requirement already satisfied: pyasn1<0.5.0,>=0.4.6 in /usr/local/lib/python3.7/dist-packages (from pyasn1-modules>=0.2.1->google-auth<3,>=1.6.3->tensorboard~=2.6->tensorflow>=2.1.0->stellargraph) (0.4.8)\n",
            "Requirement already satisfied: urllib3!=1.25.0,!=1.25.1,<1.26,>=1.21.1 in /usr/local/lib/python3.7/dist-packages (from requests<3,>=2.21.0->tensorboard~=2.6->tensorflow>=2.1.0->stellargraph) (1.24.3)\n",
            "Requirement already satisfied: chardet<4,>=3.0.2 in /usr/local/lib/python3.7/dist-packages (from requests<3,>=2.21.0->tensorboard~=2.6->tensorflow>=2.1.0->stellargraph) (3.0.4)\n",
            "Requirement already satisfied: idna<3,>=2.5 in /usr/local/lib/python3.7/dist-packages (from requests<3,>=2.21.0->tensorboard~=2.6->tensorflow>=2.1.0->stellargraph) (2.10)\n",
            "Requirement already satisfied: certifi>=2017.4.17 in /usr/local/lib/python3.7/dist-packages (from requests<3,>=2.21.0->tensorboard~=2.6->tensorflow>=2.1.0->stellargraph) (2021.10.8)\n",
            "Requirement already satisfied: oauthlib>=3.0.0 in /usr/local/lib/python3.7/dist-packages (from requests-oauthlib>=0.7.0->google-auth-oauthlib<0.5,>=0.4.1->tensorboard~=2.6->tensorflow>=2.1.0->stellargraph) (3.1.1)\n",
            "Installing collected packages: stellargraph\n",
            "Successfully installed stellargraph-1.2.1\n"
          ]
        }
      ]
    },
    {
      "cell_type": "code",
      "source": [
        "from stellargraph import StellarGraph"
      ],
      "metadata": {
        "id": "o4eAEGPt5xQv"
      },
      "execution_count": 11,
      "outputs": []
    },
    {
      "cell_type": "code",
      "source": [
        "Gs = StellarGraph(G)"
      ],
      "metadata": {
        "colab": {
          "base_uri": "https://localhost:8080/"
        },
        "id": "ldEPEkP95xMk",
        "outputId": "f0fdc90f-68e5-4deb-c0da-71cfe18e46bd"
      },
      "execution_count": 12,
      "outputs": [
        {
          "output_type": "stream",
          "name": "stderr",
          "text": [
            "/usr/local/lib/python3.7/dist-packages/ipykernel_launcher.py:1: DeprecationWarning: Constructing a StellarGraph directly from a NetworkX graph has been replaced by the `StellarGraph.from_networkx` function\n",
            "  \"\"\"Entry point for launching an IPython kernel.\n"
          ]
        }
      ]
    },
    {
      "cell_type": "code",
      "source": [
        "Gs.info()"
      ],
      "metadata": {
        "colab": {
          "base_uri": "https://localhost:8080/",
          "height": 54
        },
        "id": "vnsoruU85xLB",
        "outputId": "8cd04272-944d-488f-ee2e-50cc96c1d41b"
      },
      "execution_count": 13,
      "outputs": [
        {
          "output_type": "execute_result",
          "data": {
            "application/vnd.google.colaboratory.intrinsic+json": {
              "type": "string"
            },
            "text/plain": [
              "'StellarGraph: Undirected multigraph\\n Nodes: 9929, Edges: 1639317\\n\\n Node types:\\n  default: [9929]\\n    Features: none\\n    Edge types: default-default->default\\n\\n Edge types:\\n    default-default->default: [1639317]\\n        Weights: range=[1, 52324], mean=4.47302, std=75.2184\\n        Features: none'"
            ]
          },
          "metadata": {},
          "execution_count": 13
        }
      ]
    },
    {
      "cell_type": "code",
      "source": [
        "from stellargraph.data import BiasedRandomWalk"
      ],
      "metadata": {
        "id": "_QC_4c1r5xG1"
      },
      "execution_count": 14,
      "outputs": []
    },
    {
      "cell_type": "code",
      "source": [
        "rw = BiasedRandomWalk(Gs)\n",
        "\n",
        "walks = rw.run(\n",
        "    nodes=list(Gs.nodes()),  # root nodes\n",
        "    length=100,  # maximum length of a random walk\n",
        "    n=10,  # number of random walks per root node\n",
        "    p=0.5,  # Defines (unormalised) probability, 1/p, of returning to source node\n",
        "    q=2.0,  # Defines (unormalised) probability, 1/q, for moving away from source node\n",
        ")\n",
        "print(\"Number of random walks: {}\".format(len(walks)))"
      ],
      "metadata": {
        "colab": {
          "base_uri": "https://localhost:8080/"
        },
        "id": "Pia625rX5xFV",
        "outputId": "53d672de-00a9-4714-faf3-64ac28ad8875"
      },
      "execution_count": 15,
      "outputs": [
        {
          "output_type": "stream",
          "name": "stdout",
          "text": [
            "Number of random walks: 99290\n"
          ]
        }
      ]
    },
    {
      "cell_type": "code",
      "source": [
        "from gensim.models import Word2Vec"
      ],
      "metadata": {
        "id": "UMHmDe465xDd"
      },
      "execution_count": 16,
      "outputs": []
    },
    {
      "cell_type": "code",
      "source": [
        "str_walks = [[str(n) for n in walk] for walk in walks]\n",
        "model = Word2Vec(str_walks, size=768, window=5, min_count=0, sg=1, workers=2, iter=1)"
      ],
      "metadata": {
        "id": "3Kdudvnt5w_z"
      },
      "execution_count": 18,
      "outputs": []
    },
    {
      "cell_type": "code",
      "source": [
        "node_ids = model.wv.index2word "
      ],
      "metadata": {
        "id": "-Dc1LxGf5w8J"
      },
      "execution_count": 21,
      "outputs": []
    },
    {
      "cell_type": "code",
      "source": [
        "len(node_ids)"
      ],
      "metadata": {
        "colab": {
          "base_uri": "https://localhost:8080/"
        },
        "id": "a83FFABY5w6h",
        "outputId": "49a13968-bd6a-45c7-b39d-15da3e7b3a2f"
      },
      "execution_count": 24,
      "outputs": [
        {
          "output_type": "execute_result",
          "data": {
            "text/plain": [
              "9929"
            ]
          },
          "metadata": {},
          "execution_count": 24
        }
      ]
    },
    {
      "cell_type": "code",
      "source": [
        "node_embeddings = (\n",
        "    model.wv.vectors\n",
        ")  # numpy.ndarray of size number of nodes times embeddings dimensionality\n"
      ],
      "metadata": {
        "id": "hc0w0dec5w2U"
      },
      "execution_count": 26,
      "outputs": []
    },
    {
      "cell_type": "code",
      "source": [
        "len(node_embeddings[0])"
      ],
      "metadata": {
        "colab": {
          "base_uri": "https://localhost:8080/"
        },
        "id": "7aNoyrLf5w0y",
        "outputId": "f5242f45-ac05-4f97-e9fb-46381c150699"
      },
      "execution_count": 29,
      "outputs": [
        {
          "output_type": "execute_result",
          "data": {
            "text/plain": [
              "768"
            ]
          },
          "metadata": {},
          "execution_count": 29
        }
      ]
    },
    {
      "cell_type": "code",
      "source": [
        "len(node_embeddings)"
      ],
      "metadata": {
        "colab": {
          "base_uri": "https://localhost:8080/"
        },
        "id": "EEj346hn5wnW",
        "outputId": "fd6e5349-a7f9-4036-cef0-9b941ad39513"
      },
      "execution_count": 31,
      "outputs": [
        {
          "output_type": "execute_result",
          "data": {
            "text/plain": [
              "9929"
            ]
          },
          "metadata": {},
          "execution_count": 31
        }
      ]
    },
    {
      "cell_type": "code",
      "source": [
        "node_ids"
      ],
      "metadata": {
        "colab": {
          "base_uri": "https://localhost:8080/"
        },
        "id": "ekBTeAMt94Zp",
        "outputId": "e0c10e7b-9113-411b-ff29-8bc1b8394d53"
      },
      "execution_count": 32,
      "outputs": [
        {
          "output_type": "execute_result",
          "data": {
            "text/plain": [
              "['00',\n",
              " '00am',\n",
              " '05',\n",
              " '11',\n",
              " '5am',\n",
              " '5h',\n",
              " 'above',\n",
              " 'accounting',\n",
              " 'additional',\n",
              " 'also',\n",
              " 'an',\n",
              " 'and',\n",
              " 'applied',\n",
              " 'appropriate',\n",
              " 'are',\n",
              " 'as',\n",
              " 'at',\n",
              " 'average',\n",
              " 'be',\n",
              " 'because',\n",
              " 'below',\n",
              " 'between',\n",
              " 'by',\n",
              " 'can',\n",
              " 'capture',\n",
              " 'capturing',\n",
              " 'chain',\n",
              " 'chains',\n",
              " 'changes',\n",
              " 'cloud',\n",
              " 'consider',\n",
              " 'considered',\n",
              " 'cut',\n",
              " 'demonstrates',\n",
              " 'differences',\n",
              " 'different',\n",
              " 'diurnal',\n",
              " 'due',\n",
              " 'duration',\n",
              " 'each',\n",
              " 'effect',\n",
              " 'eight',\n",
              " 'energy',\n",
              " 'entire',\n",
              " 'fig',\n",
              " 'for',\n",
              " 'four',\n",
              " 'from',\n",
              " 'height',\n",
              " 'impacts',\n",
              " 'in',\n",
              " 'inclusion',\n",
              " 'increased',\n",
              " 'intent',\n",
              " 'is',\n",
              " 'it',\n",
              " 'locations',\n",
              " 'markov',\n",
              " 'mean',\n",
              " 'morning',\n",
              " 'number',\n",
              " 'occurs',\n",
              " 'of',\n",
              " 'off',\n",
              " 'okta',\n",
              " 'presence',\n",
              " 'pressure',\n",
              " 'probability',\n",
              " 'produced',\n",
              " 'propensity',\n",
              " 'represented',\n",
              " 'representing',\n",
              " 'represents',\n",
              " 'result',\n",
              " 'season',\n",
              " 'seasonal',\n",
              " 'seasons',\n",
              " 'seen',\n",
              " 'shift',\n",
              " 'slight',\n",
              " 'solar',\n",
              " 'speed',\n",
              " 'split',\n",
              " 'study',\n",
              " 'summer',\n",
              " 'sunrise',\n",
              " 'that',\n",
              " 'the',\n",
              " 'times',\n",
              " 'to',\n",
              " 'totalling',\n",
              " 'towards',\n",
              " 'transition',\n",
              " 'transitions',\n",
              " 'typical',\n",
              " 'used',\n",
              " 'variability',\n",
              " 'variable',\n",
              " 'variation',\n",
              " 'variations',\n",
              " 'visually',\n",
              " 'weather',\n",
              " 'whilst',\n",
              " 'wind',\n",
              " 'with',\n",
              " 'year',\n",
              " '000',\n",
              " '000968',\n",
              " '0328',\n",
              " '10',\n",
              " '19',\n",
              " '1a1',\n",
              " '20',\n",
              " '28',\n",
              " '29',\n",
              " '30a0',\n",
              " '32',\n",
              " '36',\n",
              " '3t',\n",
              " '43cm',\n",
              " '550',\n",
              " '57',\n",
              " '5mm',\n",
              " '5å',\n",
              " '66',\n",
              " '68',\n",
              " '69',\n",
              " '6k',\n",
              " '70',\n",
              " '72ev',\n",
              " '84',\n",
              " '9a',\n",
              " 'a0',\n",
              " 'a1',\n",
              " 'a2',\n",
              " 'a2t2t',\n",
              " 'a3',\n",
              " 'a4',\n",
              " 'a4t4',\n",
              " 'absent',\n",
              " 'adjacent',\n",
              " 'adr',\n",
              " 'after',\n",
              " 'again',\n",
              " 'al',\n",
              " 'algorithm',\n",
              " 'all',\n",
              " 'allows',\n",
              " 'amounts',\n",
              " 'another',\n",
              " 'approximation',\n",
              " 'assembling',\n",
              " 'assumed',\n",
              " 'atom',\n",
              " 'atoms',\n",
              " 'b0',\n",
              " 'b0t2',\n",
              " 'based',\n",
              " 'bcc',\n",
              " 'been',\n",
              " 'behavior',\n",
              " 'bna3t',\n",
              " 'boundary',\n",
              " 'box',\n",
              " 'broad',\n",
              " 'bubble',\n",
              " 'calculated',\n",
              " 'calculations',\n",
              " 'called',\n",
              " 'carlo',\n",
              " 'case',\n",
              " 'cell',\n",
              " 'change',\n",
              " 'characterised',\n",
              " 'characterize',\n",
              " 'chemical',\n",
              " 'cluster',\n",
              " 'comparing',\n",
              " 'complicated',\n",
              " 'conditions',\n",
              " 'conducted',\n",
              " 'conductivity',\n",
              " 'configuration',\n",
              " 'configurations',\n",
              " 'conjugate',\n",
              " 'constant',\n",
              " 'constants',\n",
              " 'constitute',\n",
              " 'constraint',\n",
              " 'constraints',\n",
              " 'containing',\n",
              " 'continued',\n",
              " 'control',\n",
              " 'corresponding',\n",
              " 'could',\n",
              " 'create',\n",
              " 'cross',\n",
              " 'crosslinked',\n",
              " 'cryostat',\n",
              " 'derived',\n",
              " 'designated',\n",
              " 'designed',\n",
              " 'determine',\n",
              " 'directions',\n",
              " 'discussed',\n",
              " 'displaced',\n",
              " 'distance',\n",
              " 'distribution',\n",
              " 'does',\n",
              " 'dominated',\n",
              " 'drop',\n",
              " 'dynamic',\n",
              " 'dynamics',\n",
              " 'earlier',\n",
              " 'elastomers',\n",
              " 'employed',\n",
              " 'end',\n",
              " 'energetics',\n",
              " 'entanglements',\n",
              " 'eq',\n",
              " 'equation',\n",
              " 'estimate',\n",
              " 'estimated',\n",
              " 'et',\n",
              " 'evac',\n",
              " 'every',\n",
              " 'experimental',\n",
              " 'experiments',\n",
              " 'fe',\n",
              " 'field',\n",
              " 'find',\n",
              " 'first',\n",
              " 'fixed',\n",
              " 'follows',\n",
              " 'formation',\n",
              " 'free',\n",
              " 'fully',\n",
              " 'function',\n",
              " 'functions',\n",
              " 'further',\n",
              " 'future',\n",
              " 'give',\n",
              " 'gives',\n",
              " 'good',\n",
              " 'governed',\n",
              " 'gradient',\n",
              " 'has',\n",
              " 'have',\n",
              " 'he',\n",
              " 'heat',\n",
              " 'helium',\n",
              " 'highest',\n",
              " 'hills',\n",
              " 'host',\n",
              " 'however',\n",
              " 'if',\n",
              " 'interactions',\n",
              " 'into',\n",
              " 'introduced',\n",
              " 'investigated',\n",
              " 'iterative',\n",
              " 'iteratively',\n",
              " 'its',\n",
              " 'lattice',\n",
              " 'length',\n",
              " 'linear',\n",
              " 'linked',\n",
              " 'linking',\n",
              " 'links',\n",
              " 'little',\n",
              " 'long',\n",
              " 'low',\n",
              " 'lowest',\n",
              " 'magnetic',\n",
              " 'mass',\n",
              " 'maximum',\n",
              " 'mc',\n",
              " 'me',\n",
              " 'measured',\n",
              " 'melts',\n",
              " 'mesh',\n",
              " 'metropolis',\n",
              " 'mg',\n",
              " 'miniature',\n",
              " 'minimised',\n",
              " 'minimum',\n",
              " 'mkcc',\n",
              " 'mn',\n",
              " 'modelled',\n",
              " 'molecular',\n",
              " 'molten',\n",
              " 'monte',\n",
              " 'more',\n",
              " 'most',\n",
              " 'motion',\n",
              " 'mr',\n",
              " 'mssl',\n",
              " 'mx',\n",
              " 'network',\n",
              " 'networks',\n",
              " 'next',\n",
              " 'nl',\n",
              " 'not',\n",
              " 'noted',\n",
              " 'ns',\n",
              " 'observed',\n",
              " 'on',\n",
              " 'organised',\n",
              " 'parameter',\n",
              " 'parameters',\n",
              " 'path',\n",
              " 'pdms',\n",
              " 'performance',\n",
              " 'periodic',\n",
              " 'point',\n",
              " 'polymer',\n",
              " 'possible',\n",
              " 'potential',\n",
              " 'precise',\n",
              " 'precursor',\n",
              " 'predictions',\n",
              " 'presented',\n",
              " 'prior',\n",
              " 'probe',\n",
              " 'process',\n",
              " 'publication',\n",
              " 'randomly',\n",
              " 'range',\n",
              " 'recorded',\n",
              " 'release',\n",
              " 'removed',\n",
              " 'research',\n",
              " 'respectively',\n",
              " 'results',\n",
              " 'rmax',\n",
              " 'rrr',\n",
              " 'same',\n",
              " 'schematic',\n",
              " 'scheme',\n",
              " 'searches',\n",
              " 'section',\n",
              " 'see',\n",
              " 'set',\n",
              " 'short',\n",
              " 'should',\n",
              " 'shown',\n",
              " 'simpler',\n",
              " 'simulation',\n",
              " 'single',\n",
              " 'site',\n",
              " 'size',\n",
              " 'small',\n",
              " 'square',\n",
              " 'state',\n",
              " 'steps',\n",
              " 'studies',\n",
              " 'subject',\n",
              " 'surrounding',\n",
              " 'switch',\n",
              " 'switches',\n",
              " 'system',\n",
              " 'systems',\n",
              " 'taken',\n",
              " 'target',\n",
              " 'temperature',\n",
              " 'terminated',\n",
              " 'than',\n",
              " 'then',\n",
              " 'there',\n",
              " 'therefore',\n",
              " 'thermal',\n",
              " 'thermally',\n",
              " 'they',\n",
              " 'this',\n",
              " 'total',\n",
              " 'trapped',\n",
              " 'tungsten',\n",
              " 'two',\n",
              " 'types',\n",
              " 'unattached',\n",
              " 'uncrosslinked',\n",
              " 'uniform',\n",
              " 'up',\n",
              " 'using',\n",
              " 'vacancies',\n",
              " 'vacancy',\n",
              " 'validated',\n",
              " 'values',\n",
              " 'viscoelastic',\n",
              " 'viscoelasticity',\n",
              " 'voids',\n",
              " 'volume',\n",
              " 'we',\n",
              " 'were',\n",
              " 'where',\n",
              " 'which',\n",
              " 'while',\n",
              " 'will',\n",
              " 'within',\n",
              " 'without',\n",
              " 'yielding',\n",
              " '01',\n",
              " '02',\n",
              " '03',\n",
              " '12',\n",
              " '13',\n",
              " '16',\n",
              " '190',\n",
              " '2000',\n",
              " '22',\n",
              " '25',\n",
              " '250nm',\n",
              " '260',\n",
              " '2min',\n",
              " '30',\n",
              " '320nm',\n",
              " '325nm',\n",
              " '330',\n",
              " '50g',\n",
              " '60s',\n",
              " '800',\n",
              " '87',\n",
              " '94',\n",
              " 'aamm',\n",
              " 'accuracy',\n",
              " 'accurate',\n",
              " 'achieve',\n",
              " 'across',\n",
              " 'adapt',\n",
              " 'adaptation',\n",
              " 'adapted',\n",
              " 'adaptive',\n",
              " 'added',\n",
              " 'affect',\n",
              " 'aim',\n",
              " 'already',\n",
              " 'am',\n",
              " 'anisole',\n",
              " 'anticipated',\n",
              " 'application',\n",
              " 'applications',\n",
              " 'approximately',\n",
              " 'around',\n",
              " 'assessed',\n",
              " 'attributed',\n",
              " 'baked',\n",
              " 'baking',\n",
              " 'beam',\n",
              " 'before',\n",
              " 'beginning',\n",
              " 'boundaries',\n",
              " 'breathing',\n",
              " 'build',\n",
              " 'built',\n",
              " 'but',\n",
              " 'calibration',\n",
              " 'carbon',\n",
              " 'cardiac',\n",
              " 'characterisation',\n",
              " 'characterization',\n",
              " 'chloroform',\n",
              " 'clear',\n",
              " 'close',\n",
              " 'coating',\n",
              " 'compare',\n",
              " 'comparison',\n",
              " 'components',\n",
              " 'composition',\n",
              " 'compositional',\n",
              " 'compositions',\n",
              " 'concentration',\n",
              " 'concluded',\n",
              " 'continually',\n",
              " 'cooling',\n",
              " 'corresponds',\n",
              " 'counterpart',\n",
              " 'crust',\n",
              " 'crystallised',\n",
              " 'current',\n",
              " 'curve',\n",
              " 'curves',\n",
              " 'dashed',\n",
              " 'data',\n",
              " 'defect',\n",
              " 'defects',\n",
              " 'demonstrate',\n",
              " 'demonstrating',\n",
              " 'depends',\n",
              " 'design',\n",
              " 'did',\n",
              " 'diffusion',\n",
              " 'dioxide',\n",
              " 'dipping',\n",
              " 'direction',\n",
              " 'disappearance',\n",
              " 'dissolved',\n",
              " 'distributions',\n",
              " 'double',\n",
              " 'during',\n",
              " 'effects',\n",
              " 'electron',\n",
              " 'elution',\n",
              " 'enable',\n",
              " 'enriched',\n",
              " 'error',\n",
              " 'errors',\n",
              " 'established',\n",
              " 'estimation',\n",
              " 'estimations',\n",
              " 'etching',\n",
              " 'evaluated',\n",
              " 'example',\n",
              " 'examples',\n",
              " 'except',\n",
              " 'experiment',\n",
              " 'experimentally',\n",
              " 'fast',\n",
              " 'figures',\n",
              " 'film',\n",
              " 'films',\n",
              " 'flatten',\n",
              " 'follow',\n",
              " 'followed',\n",
              " 'following',\n",
              " 'formed',\n",
              " 'forms',\n",
              " 'formulations',\n",
              " 'fraction',\n",
              " 'freezing',\n",
              " 'gated',\n",
              " 'generally',\n",
              " 'hardmask',\n",
              " 'hardmasks',\n",
              " 'hip',\n",
              " 'hm11',\n",
              " 'hot',\n",
              " 'how',\n",
              " 'hydrogen',\n",
              " 'im',\n",
              " 'images',\n",
              " 'imaging',\n",
              " 'improper',\n",
              " 'improved',\n",
              " 'include',\n",
              " 'including',\n",
              " 'incorporating',\n",
              " 'indicate',\n",
              " 'inflection',\n",
              " 'initial',\n",
              " 'initially',\n",
              " 'insets',\n",
              " 'inside',\n",
              " 'insoluble',\n",
              " 'inspecting',\n",
              " 'intervals',\n",
              " 'investigations',\n",
              " 'ipa',\n",
              " 'irresistible',\n",
              " 'isostatic',\n",
              " 'large',\n",
              " 'laser',\n",
              " 'last',\n",
              " 'latter',\n",
              " 'leads',\n",
              " 'levels',\n",
              " 'liquid',\n",
              " 'longer',\n",
              " 'made',\n",
              " 'many',\n",
              " 'mark',\n",
              " 'material',\n",
              " 'materials',\n",
              " 'may',\n",
              " 'mcb',\n",
              " 'measurements',\n",
              " 'melted',\n",
              " 'melting',\n",
              " 'method',\n",
              " 'methods',\n",
              " 'microct',\n",
              " 'min',\n",
              " 'model',\n",
              " 'molar',\n",
              " 'monochlorobenzene',\n",
              " 'newly',\n",
              " 'no',\n",
              " 'non',\n",
              " 'normalized',\n",
              " 'note',\n",
              " 'occurring',\n",
              " 'one',\n",
              " 'onset',\n",
              " 'optimal',\n",
              " 'or',\n",
              " 'order',\n",
              " 'other',\n",
              " 'outperformed',\n",
              " 'overlap',\n",
              " 'part',\n",
              " 'particular',\n",
              " 'parts',\n",
              " 'pattern',\n",
              " 'phase',\n",
              " 'plus',\n",
              " 'plutonium',\n",
              " 'pores',\n",
              " 'porosity',\n",
              " 'post',\n",
              " 'preliminary',\n",
              " 'prepared',\n",
              " 'present',\n",
              " 'pressing',\n",
              " 'processing',\n",
              " 'pulse',\n",
              " 'puo2',\n",
              " 'ranged',\n",
              " 'rank',\n",
              " 'rapidly',\n",
              " 'raster',\n",
              " 'rather',\n",
              " 'recalescence',\n",
              " 'recent',\n",
              " 'recovered',\n",
              " 'reduced',\n",
              " 'rendered',\n",
              " 'report',\n",
              " 'reported',\n",
              " 'reports',\n",
              " 'required',\n",
              " 'resist',\n",
              " 'respect',\n",
              " 'restored',\n",
              " 'roughness',\n",
              " 'rpm',\n",
              " 'sample',\n",
              " 'samples',\n",
              " 'scan',\n",
              " 'second',\n",
              " 'segregation',\n",
              " 'sequence',\n",
              " 'settings',\n",
              " 'shows',\n",
              " 'signed',\n",
              " 'significance',\n",
              " 'significantly',\n",
              " 'silicon',\n",
              " 'similar',\n",
              " 'since',\n",
              " 'soc',\n",
              " 'solid',\n",
              " 'solidification',\n",
              " 'solution',\n",
              " 'solvent',\n",
              " 'solvents',\n",
              " 'some',\n",
              " 'specific',\n",
              " 'spin',\n",
              " 'start',\n",
              " 'strategy',\n",
              " 'structure',\n",
              " 'structures',\n",
              " 'studied',\n",
              " 'subsequently',\n",
              " 'substrates',\n",
              " 'such',\n",
              " 'suitable',\n",
              " 'supplementary',\n",
              " 'surface',\n",
              " 'symmetric',\n",
              " 't2',\n",
              " 't5',\n",
              " 'table',\n",
              " 'tailed',\n",
              " 'tasks',\n",
              " 'technique',\n",
              " 'temperatures',\n",
              " 'tends',\n",
              " 'test',\n",
              " 'tested',\n",
              " 'these',\n",
              " 'thickness',\n",
              " 'thicknesses',\n",
              " 'three',\n",
              " 'time',\n",
              " 'treatment',\n",
              " 'type',\n",
              " 'underway',\n",
              " 'uo2',\n",
              " 'upon',\n",
              " 'use',\n",
              " 'various',\n",
              " 'varying',\n",
              " 'very',\n",
              " 'visualization',\n",
              " 'volunteers',\n",
              " 'was',\n",
              " 'well',\n",
              " 'went',\n",
              " 'wilcoxon',\n",
              " 'work',\n",
              " 'worth',\n",
              " 'would',\n",
              " '01duφb',\n",
              " '14',\n",
              " '15',\n",
              " '17',\n",
              " '18',\n",
              " '21',\n",
              " '2π',\n",
              " 'amplitude',\n",
              " 'arising',\n",
              " 'being',\n",
              " 'branching',\n",
              " 'calculate',\n",
              " 'carried',\n",
              " 'carry',\n",
              " 'chromomagnetic',\n",
              " 'component',\n",
              " 'cone',\n",
              " 'contribution',\n",
              " 'contributions',\n",
              " 'convenient',\n",
              " 'corrections',\n",
              " 'decays',\n",
              " 'defined',\n",
              " 'dk',\n",
              " 'elements',\n",
              " 'express',\n",
              " 'factorization',\n",
              " 'factorize',\n",
              " 'factors',\n",
              " 'fb',\n",
              " 'form',\n",
              " 'formula',\n",
              " 'fractional',\n",
              " 'fractions',\n",
              " 'framework',\n",
              " 'hadronic',\n",
              " 'hard',\n",
              " 'heavy',\n",
              " 'holds',\n",
              " 'included',\n",
              " 'isospin',\n",
              " 'kernels',\n",
              " 'lcda',\n",
              " 'leading',\n",
              " 'light',\n",
              " 'limit',\n",
              " 'listed',\n",
              " 'marginal',\n",
              " 'matrix',\n",
              " 'mb',\n",
              " 'meson',\n",
              " 'momentum',\n",
              " 'nnlo',\n",
              " 'numerical',\n",
              " 'o7',\n",
              " 'o8',\n",
              " 'oi',\n",
              " 'operator',\n",
              " 'operators',\n",
              " 'our',\n",
              " 'out',\n",
              " 'partons',\n",
              " 'perturbative',\n",
              " 'polarized',\n",
              " 'qcd',\n",
              " 'quantities',\n",
              " 'quark',\n",
              " 'recently',\n",
              " 'refs',\n",
              " 'related',\n",
              " 'resummed',\n",
              " 'shall',\n",
              " 'showing',\n",
              " 'so',\n",
              " 'spectator',\n",
              " 'through',\n",
              " 'tii',\n",
              " 'tiii',\n",
              " 'transversely',\n",
              " 'twist',\n",
              " 'update',\n",
              " 'vector',\n",
              " 'violation',\n",
              " 'vtii',\n",
              " 'vγ',\n",
              " 'wave',\n",
              " 'αs',\n",
              " 'λqcd',\n",
              " 'ργ',\n",
              " 'φb',\n",
              " 'φv',\n",
              " '01kg',\n",
              " '273k',\n",
              " '283k',\n",
              " '400',\n",
              " '600',\n",
              " '800w',\n",
              " 'ambient',\n",
              " 'assuming',\n",
              " 'both',\n",
              " 'bottom',\n",
              " 'carrying',\n",
              " 'cells',\n",
              " 'collected',\n",
              " 'direct',\n",
              " 'flow',\n",
              " 'found',\n",
              " 'front',\n",
              " 'horizontal',\n",
              " 'incident',\n",
              " 'increase',\n",
              " 'increasing',\n",
              " 'inlet',\n",
              " 'intensities',\n",
              " 'intensity',\n",
              " 'left',\n",
              " 'm2',\n",
              " 'namely',\n",
              " 'pane',\n",
              " 'passed',\n",
              " 'passing',\n",
              " 'performed',\n",
              " 'physical',\n",
              " 'plane',\n",
              " 'predicted',\n",
              " 'radiation',\n",
              " 'rate',\n",
              " 'right',\n",
              " 'segment',\n",
              " 'simulated',\n",
              " 'simulations',\n",
              " 'smart',\n",
              " 'successive',\n",
              " 'tube',\n",
              " 'under',\n",
              " 'units',\n",
              " 'water',\n",
              " 'window',\n",
              " '04',\n",
              " '12meter',\n",
              " '12meter3',\n",
              " '150',\n",
              " '2012',\n",
              " '3525',\n",
              " '53',\n",
              " '54',\n",
              " '58',\n",
              " '59',\n",
              " '60',\n",
              " '63',\n",
              " '734',\n",
              " '75',\n",
              " '88',\n",
              " 'al2o3',\n",
              " 'aluminum',\n",
              " 'area',\n",
              " 'available',\n",
              " 'bench',\n",
              " 'benches',\n",
              " 'blocks',\n",
              " 'boucher',\n",
              " 'bounded',\n",
              " 'characteristics',\n",
              " 'consecutive',\n",
              " 'content',\n",
              " 'conventional',\n",
              " 'deposit',\n",
              " 'detailed',\n",
              " 'dimitrakopoulos',\n",
              " 'equally',\n",
              " 'extracted',\n",
              " 'fe2o3',\n",
              " 'formulation',\n",
              " 'generated',\n",
              " 'given',\n",
              " 'input',\n",
              " 'iron',\n",
              " 'joint',\n",
              " 'limits',\n",
              " 'located',\n",
              " 'loi',\n",
              " 'mining',\n",
              " 'ore',\n",
              " 'phosphorous',\n",
              " 'previous',\n",
              " 'probable',\n",
              " 'production',\n",
              " 'proposed',\n",
              " 'provided',\n",
              " 'quantify',\n",
              " 'representation',\n",
              " 'scenarios',\n",
              " 'schedule',\n",
              " 'silica',\n",
              " 'sio2',\n",
              " 'sstps',\n",
              " 'stochastic',\n",
              " 'ten',\n",
              " 'term',\n",
              " 'tonnes',\n",
              " 'uncertainty',\n",
              " 'upper',\n",
              " '028mm',\n",
              " '3d',\n",
              " 'acrylic',\n",
              " 'aggregation',\n",
              " 'amira',\n",
              " 'angiographic',\n",
              " 'angiography',\n",
              " 'burlington',\n",
              " 'cerebral',\n",
              " 'computational',\n",
              " 'constructed',\n",
              " 'converted',\n",
              " 'creating',\n",
              " 'day',\n",
              " 'diagnostic',\n",
              " 'dicom',\n",
              " 'digital',\n",
              " 'dimensional',\n",
              " 'dsa',\n",
              " 'eden',\n",
              " 'embolization',\n",
              " 'fei',\n",
              " 'few',\n",
              " 'file',\n",
              " 'fine',\n",
              " 'hours',\n",
              " 'immersion',\n",
              " 'language',\n",
              " 'layer',\n",
              " 'least',\n",
              " 'ltd',\n",
              " 'ma',\n",
              " 'manually',\n",
              " 'measurement',\n",
              " 'meshes',\n",
              " 'objet30',\n",
              " 'obtained',\n",
              " 'patients',\n",
              " 'prairie',\n",
              " 'printed',\n",
              " 'printer',\n",
              " 'pro',\n",
              " 'raw',\n",
              " 'remeshing',\n",
              " 'removing',\n",
              " 'resin',\n",
              " 'resolution',\n",
              " 'smoothed',\n",
              " 'smoothing',\n",
              " 'software',\n",
              " 'spicule',\n",
              " 'standard',\n",
              " 'stl',\n",
              " 'stratasys',\n",
              " 'subtraction',\n",
              " 'transferred',\n",
              " 'triangular',\n",
              " 'triangulated',\n",
              " 'triangulation',\n",
              " 'unstructured',\n",
              " 'usa',\n",
              " 'vero',\n",
              " 'version',\n",
              " 'vessel',\n",
              " 'volumetric',\n",
              " '07',\n",
              " '31',\n",
              " '38',\n",
              " '92',\n",
              " 'able',\n",
              " 'accommodated',\n",
              " 'activation',\n",
              " 'agreement',\n",
              " 'associating',\n",
              " 'availability',\n",
              " 'basak',\n",
              " 'bubbles',\n",
              " 'charge',\n",
              " 'choice',\n",
              " 'coupled',\n",
              " 'crystal',\n",
              " 'depend',\n",
              " 'depending',\n",
              " 'determining',\n",
              " 'dft',\n",
              " 'distortion',\n",
              " 'distributed',\n",
              " 'either',\n",
              " 'empirical',\n",
              " 'energies',\n",
              " 'ensure',\n",
              " 'ev',\n",
              " 'examined',\n",
              " 'facilitate',\n",
              " 'facilitated',\n",
              " 'fission',\n",
              " ...]"
            ]
          },
          "metadata": {},
          "execution_count": 32
        }
      ]
    },
    {
      "cell_type": "code",
      "execution_count": 33,
      "metadata": {
        "id": "VIyglTvIW0W6"
      },
      "outputs": [],
      "source": [
        "list_of_tuples = list(zip(node_ids, node_embeddings))\n"
      ]
    },
    {
      "cell_type": "code",
      "source": [
        "df = pd.DataFrame(list_of_tuples,columns = ['Word', 'Node_Embedding'])"
      ],
      "metadata": {
        "id": "yTL_nPpcAr_3"
      },
      "execution_count": 35,
      "outputs": []
    },
    {
      "cell_type": "code",
      "source": [
        "df.head()"
      ],
      "metadata": {
        "colab": {
          "base_uri": "https://localhost:8080/",
          "height": 5916
        },
        "id": "u2dGRvjEAxs9",
        "outputId": "66002bc1-f25a-435d-9b38-1f4e93a50f71"
      },
      "execution_count": 36,
      "outputs": [
        {
          "output_type": "execute_result",
          "data": {
            "text/html": [
              "\n",
              "  <div id=\"df-4d783ff4-b59d-4ef9-b7d3-412b3dceb0d2\">\n",
              "    <div class=\"colab-df-container\">\n",
              "      <div>\n",
              "<style scoped>\n",
              "    .dataframe tbody tr th:only-of-type {\n",
              "        vertical-align: middle;\n",
              "    }\n",
              "\n",
              "    .dataframe tbody tr th {\n",
              "        vertical-align: top;\n",
              "    }\n",
              "\n",
              "    .dataframe thead th {\n",
              "        text-align: right;\n",
              "    }\n",
              "</style>\n",
              "<table border=\"1\" class=\"dataframe\">\n",
              "  <thead>\n",
              "    <tr style=\"text-align: right;\">\n",
              "      <th></th>\n",
              "      <th>Word</th>\n",
              "      <th>Node_Embedding</th>\n",
              "    </tr>\n",
              "  </thead>\n",
              "  <tbody>\n",
              "    <tr>\n",
              "      <th>0</th>\n",
              "      <td>00</td>\n",
              "      <td>[6.539589e-05, 0.0002178079, 0.00014181895, -0...</td>\n",
              "    </tr>\n",
              "    <tr>\n",
              "      <th>1</th>\n",
              "      <td>00am</td>\n",
              "      <td>[-7.828184e-05, 0.0004514263, -0.00029000576, ...</td>\n",
              "    </tr>\n",
              "    <tr>\n",
              "      <th>2</th>\n",
              "      <td>05</td>\n",
              "      <td>[-0.00021342117, -0.00024161664, 0.0005116154,...</td>\n",
              "    </tr>\n",
              "    <tr>\n",
              "      <th>3</th>\n",
              "      <td>11</td>\n",
              "      <td>[-0.0001020737, 7.3072224e-05, -0.00012835703,...</td>\n",
              "    </tr>\n",
              "    <tr>\n",
              "      <th>4</th>\n",
              "      <td>5am</td>\n",
              "      <td>[0.00063675264, -0.00024753454, -0.00022098399...</td>\n",
              "    </tr>\n",
              "  </tbody>\n",
              "</table>\n",
              "</div>\n",
              "      <button class=\"colab-df-convert\" onclick=\"convertToInteractive('df-4d783ff4-b59d-4ef9-b7d3-412b3dceb0d2')\"\n",
              "              title=\"Convert this dataframe to an interactive table.\"\n",
              "              style=\"display:none;\">\n",
              "        \n",
              "  <svg xmlns=\"http://www.w3.org/2000/svg\" height=\"24px\"viewBox=\"0 0 24 24\"\n",
              "       width=\"24px\">\n",
              "    <path d=\"M0 0h24v24H0V0z\" fill=\"none\"/>\n",
              "    <path d=\"M18.56 5.44l.94 2.06.94-2.06 2.06-.94-2.06-.94-.94-2.06-.94 2.06-2.06.94zm-11 1L8.5 8.5l.94-2.06 2.06-.94-2.06-.94L8.5 2.5l-.94 2.06-2.06.94zm10 10l.94 2.06.94-2.06 2.06-.94-2.06-.94-.94-2.06-.94 2.06-2.06.94z\"/><path d=\"M17.41 7.96l-1.37-1.37c-.4-.4-.92-.59-1.43-.59-.52 0-1.04.2-1.43.59L10.3 9.45l-7.72 7.72c-.78.78-.78 2.05 0 2.83L4 21.41c.39.39.9.59 1.41.59.51 0 1.02-.2 1.41-.59l7.78-7.78 2.81-2.81c.8-.78.8-2.07 0-2.86zM5.41 20L4 18.59l7.72-7.72 1.47 1.35L5.41 20z\"/>\n",
              "  </svg>\n",
              "      </button>\n",
              "      \n",
              "  <style>\n",
              "    .colab-df-container {\n",
              "      display:flex;\n",
              "      flex-wrap:wrap;\n",
              "      gap: 12px;\n",
              "    }\n",
              "\n",
              "    .colab-df-convert {\n",
              "      background-color: #E8F0FE;\n",
              "      border: none;\n",
              "      border-radius: 50%;\n",
              "      cursor: pointer;\n",
              "      display: none;\n",
              "      fill: #1967D2;\n",
              "      height: 32px;\n",
              "      padding: 0 0 0 0;\n",
              "      width: 32px;\n",
              "    }\n",
              "\n",
              "    .colab-df-convert:hover {\n",
              "      background-color: #E2EBFA;\n",
              "      box-shadow: 0px 1px 2px rgba(60, 64, 67, 0.3), 0px 1px 3px 1px rgba(60, 64, 67, 0.15);\n",
              "      fill: #174EA6;\n",
              "    }\n",
              "\n",
              "    [theme=dark] .colab-df-convert {\n",
              "      background-color: #3B4455;\n",
              "      fill: #D2E3FC;\n",
              "    }\n",
              "\n",
              "    [theme=dark] .colab-df-convert:hover {\n",
              "      background-color: #434B5C;\n",
              "      box-shadow: 0px 1px 3px 1px rgba(0, 0, 0, 0.15);\n",
              "      filter: drop-shadow(0px 1px 2px rgba(0, 0, 0, 0.3));\n",
              "      fill: #FFFFFF;\n",
              "    }\n",
              "  </style>\n",
              "\n",
              "      <script>\n",
              "        const buttonEl =\n",
              "          document.querySelector('#df-4d783ff4-b59d-4ef9-b7d3-412b3dceb0d2 button.colab-df-convert');\n",
              "        buttonEl.style.display =\n",
              "          google.colab.kernel.accessAllowed ? 'block' : 'none';\n",
              "\n",
              "        async function convertToInteractive(key) {\n",
              "          const element = document.querySelector('#df-4d783ff4-b59d-4ef9-b7d3-412b3dceb0d2');\n",
              "          const dataTable =\n",
              "            await google.colab.kernel.invokeFunction('convertToInteractive',\n",
              "                                                     [key], {});\n",
              "          if (!dataTable) return;\n",
              "\n",
              "          const docLinkHtml = 'Like what you see? Visit the ' +\n",
              "            '<a target=\"_blank\" href=https://colab.research.google.com/notebooks/data_table.ipynb>data table notebook</a>'\n",
              "            + ' to learn more about interactive tables.';\n",
              "          element.innerHTML = '';\n",
              "          dataTable['output_type'] = 'display_data';\n",
              "          await google.colab.output.renderOutput(dataTable, element);\n",
              "          const docLink = document.createElement('div');\n",
              "          docLink.innerHTML = docLinkHtml;\n",
              "          element.appendChild(docLink);\n",
              "        }\n",
              "      </script>\n",
              "    </div>\n",
              "  </div>\n",
              "  "
            ],
            "text/plain": [
              "   Word                                     Node_Embedding\n",
              "0    00  [6.539589e-05, 0.0002178079, 0.00014181895, -0...\n",
              "1  00am  [-7.828184e-05, 0.0004514263, -0.00029000576, ...\n",
              "2    05  [-0.00021342117, -0.00024161664, 0.0005116154,...\n",
              "3    11  [-0.0001020737, 7.3072224e-05, -0.00012835703,...\n",
              "4   5am  [0.00063675264, -0.00024753454, -0.00022098399..."
            ]
          },
          "metadata": {},
          "execution_count": 36
        }
      ]
    },
    {
      "cell_type": "code",
      "source": [
        "print(df[100:102])\n",
        "print(len(df))"
      ],
      "metadata": {
        "colab": {
          "base_uri": "https://localhost:8080/"
        },
        "id": "ahv8Xgw2A80S",
        "outputId": "53884f4d-9432-41f8-ba2c-bb55f6bac418"
      },
      "execution_count": 41,
      "outputs": [
        {
          "output_type": "stream",
          "name": "stdout",
          "text": [
            "         Word                                     Node_Embedding\n",
            "100  visually  [-0.00054977287, 0.00021664942, 6.0253013e-05,...\n",
            "101   weather  [0.00065070135, 0.00019303898, 0.0006425555, 0...\n",
            "9929\n"
          ]
        }
      ]
    },
    {
      "cell_type": "code",
      "source": [
        "df.to_csv('Node2Vec_Embeddings.csv')"
      ],
      "metadata": {
        "id": "zPzKieaABjyp"
      },
      "execution_count": 42,
      "outputs": []
    },
    {
      "cell_type": "markdown",
      "source": [
        "Old Method For Finding Embeddings which didn't work"
      ],
      "metadata": {
        "id": "jSyk1G3MCcxk"
      }
    },
    {
      "cell_type": "code",
      "execution_count": null,
      "metadata": {
        "colab": {
          "base_uri": "https://localhost:8080/"
        },
        "id": "tmple1-lYQEt",
        "outputId": "8e71f38c-8cf8-4583-a056-c390ec8834f1"
      },
      "outputs": [
        {
          "name": "stdout",
          "output_type": "stream",
          "text": [
            "Collecting node2vec\n",
            "  Downloading node2vec-0.4.3.tar.gz (4.6 kB)\n",
            "Requirement already satisfied: networkx in /usr/local/lib/python3.7/dist-packages (from node2vec) (2.6.3)\n",
            "Requirement already satisfied: gensim in /usr/local/lib/python3.7/dist-packages (from node2vec) (3.6.0)\n",
            "Requirement already satisfied: numpy in /usr/local/lib/python3.7/dist-packages (from node2vec) (1.19.5)\n",
            "Requirement already satisfied: tqdm in /usr/local/lib/python3.7/dist-packages (from node2vec) (4.62.3)\n",
            "Requirement already satisfied: joblib>=0.13.2 in /usr/local/lib/python3.7/dist-packages (from node2vec) (1.1.0)\n",
            "Requirement already satisfied: six>=1.5.0 in /usr/local/lib/python3.7/dist-packages (from gensim->node2vec) (1.15.0)\n",
            "Requirement already satisfied: scipy>=0.18.1 in /usr/local/lib/python3.7/dist-packages (from gensim->node2vec) (1.4.1)\n",
            "Requirement already satisfied: smart-open>=1.2.1 in /usr/local/lib/python3.7/dist-packages (from gensim->node2vec) (5.2.1)\n",
            "Building wheels for collected packages: node2vec\n",
            "  Building wheel for node2vec (setup.py) ... \u001b[?25l\u001b[?25hdone\n",
            "  Created wheel for node2vec: filename=node2vec-0.4.3-py3-none-any.whl size=5980 sha256=ef1939b37b6ade7031e3b5334420526c79a145c74ba8f12c2f4d938255b27a68\n",
            "  Stored in directory: /root/.cache/pip/wheels/07/62/78/5202cb8c03cbf1593b48a8a442fca8ceec2a8c80e22318bae9\n",
            "Successfully built node2vec\n",
            "Installing collected packages: node2vec\n",
            "Successfully installed node2vec-0.4.3\n"
          ]
        }
      ],
      "source": [
        "pip install node2vec\n"
      ]
    },
    {
      "cell_type": "code",
      "execution_count": null,
      "metadata": {
        "id": "Q3aMS2gGiD5E"
      },
      "outputs": [],
      "source": [
        "from node2vec import Node2Vec"
      ]
    },
    {
      "cell_type": "code",
      "execution_count": null,
      "metadata": {
        "colab": {
          "base_uri": "https://localhost:8080/",
          "height": 163
        },
        "id": "xll8exUTBztL",
        "outputId": "6e10d80b-7cdf-4c88-cbcd-3af5ddf1585b"
      },
      "outputs": [
        {
          "ename": "KeyboardInterrupt",
          "evalue": "ignored",
          "output_type": "error",
          "traceback": [
            "\u001b[0;31m---------------------------------------------------------------------------\u001b[0m",
            "\u001b[0;31mKeyboardInterrupt\u001b[0m                         Traceback (most recent call last)",
            "\u001b[0;32m<ipython-input-14-534b7a74019f>\u001b[0m in \u001b[0;36m<module>\u001b[0;34m()\u001b[0m\n\u001b[0;32m----> 1\u001b[0;31m \u001b[0;32mwhile\u001b[0m \u001b[0;32mTrue\u001b[0m\u001b[0;34m:\u001b[0m\u001b[0;32mpass\u001b[0m\u001b[0;34m\u001b[0m\u001b[0;34m\u001b[0m\u001b[0m\n\u001b[0m",
            "\u001b[0;31mKeyboardInterrupt\u001b[0m: "
          ]
        }
      ],
      "source": [
        "while True:pass"
      ]
    },
    {
      "cell_type": "code",
      "execution_count": null,
      "metadata": {
        "colab": {
          "background_save": true,
          "base_uri": "https://localhost:8080/",
          "height": 49,
          "referenced_widgets": [
            "e8a0514c55b3430fbca8cc79fb412c5c",
            "be17966f45254aebb1cdfd8f966ffb32",
            "49625721d78249b69fbbbd67db6b6bc0",
            "f22d1ef0c42c46099b05fb5b09abf371",
            "7f54e30cdbab4c3f800228c908f534dc",
            "f59e0f5770374739821cbe263046ebd1",
            "be84ab8df87b426f9fbaa15b6d61f1e3",
            "dd0a41613b34419e98fc21ceafcc3bfb",
            "27853c2d95e64bfeabbfd05ba572f6ae",
            "541ed938a22341f9b675a75f085036b4",
            "6741b6698cc040368d05bcfc9f8d5d5a"
          ]
        },
        "id": "nvs0nWHZiHWb",
        "outputId": "c583a1e1-a545-46d8-b216-72148854e793"
      },
      "outputs": [
        {
          "data": {
            "application/vnd.jupyter.widget-view+json": {
              "model_id": "e8a0514c55b3430fbca8cc79fb412c5c",
              "version_major": 2,
              "version_minor": 0
            },
            "text/plain": [
              "Computing transition probabilities:   0%|          | 0/9929 [00:00<?, ?it/s]"
            ]
          },
          "metadata": {},
          "output_type": "display_data"
        }
      ],
      "source": [
        "node2vec = Node2Vec(G, dimensions=768, walk_length=100, num_walks=50)"
      ]
    },
    {
      "cell_type": "markdown",
      "metadata": {
        "id": "fZjdmTvuhhpX"
      },
      "source": [
        ""
      ]
    },
    {
      "cell_type": "code",
      "execution_count": 11,
      "metadata": {
        "id": "nFP7UIrrioXs"
      },
      "outputs": [],
      "source": [
        "import matplotlib.pyplot as plt\n",
        "from sklearn.manifold import TSNE\n",
        "from sklearn.decomposition import PCA\n",
        "import os\n",
        "import networkx as nx\n",
        "import numpy as np\n",
        "import pandas as pd\n",
        "\n",
        "from IPython.display import display, HTML\n",
        "\n",
        "%matplotlib inline"
      ]
    },
    {
      "cell_type": "code",
      "execution_count": 13,
      "metadata": {
        "id": "Kq7SOYkWOBhj",
        "colab": {
          "base_uri": "https://localhost:8080/"
        },
        "outputId": "9202465a-122d-466f-8516-ee4f939f16f7"
      },
      "outputs": [
        {
          "output_type": "stream",
          "name": "stdout",
          "text": [
            "Collecting stellargraph\n",
            "  Downloading stellargraph-1.2.1-py3-none-any.whl (435 kB)\n",
            "\u001b[?25l\r\u001b[K     |▊                               | 10 kB 17.5 MB/s eta 0:00:01\r\u001b[K     |█▌                              | 20 kB 9.7 MB/s eta 0:00:01\r\u001b[K     |██▎                             | 30 kB 8.9 MB/s eta 0:00:01\r\u001b[K     |███                             | 40 kB 8.3 MB/s eta 0:00:01\r\u001b[K     |███▊                            | 51 kB 5.1 MB/s eta 0:00:01\r\u001b[K     |████▌                           | 61 kB 5.6 MB/s eta 0:00:01\r\u001b[K     |█████▎                          | 71 kB 5.6 MB/s eta 0:00:01\r\u001b[K     |██████                          | 81 kB 6.3 MB/s eta 0:00:01\r\u001b[K     |██████▊                         | 92 kB 4.8 MB/s eta 0:00:01\r\u001b[K     |███████▌                        | 102 kB 5.1 MB/s eta 0:00:01\r\u001b[K     |████████▎                       | 112 kB 5.1 MB/s eta 0:00:01\r\u001b[K     |█████████                       | 122 kB 5.1 MB/s eta 0:00:01\r\u001b[K     |█████████▉                      | 133 kB 5.1 MB/s eta 0:00:01\r\u001b[K     |██████████▌                     | 143 kB 5.1 MB/s eta 0:00:01\r\u001b[K     |███████████▎                    | 153 kB 5.1 MB/s eta 0:00:01\r\u001b[K     |████████████                    | 163 kB 5.1 MB/s eta 0:00:01\r\u001b[K     |████████████▉                   | 174 kB 5.1 MB/s eta 0:00:01\r\u001b[K     |█████████████▌                  | 184 kB 5.1 MB/s eta 0:00:01\r\u001b[K     |██████████████▎                 | 194 kB 5.1 MB/s eta 0:00:01\r\u001b[K     |███████████████                 | 204 kB 5.1 MB/s eta 0:00:01\r\u001b[K     |███████████████▉                | 215 kB 5.1 MB/s eta 0:00:01\r\u001b[K     |████████████████▋               | 225 kB 5.1 MB/s eta 0:00:01\r\u001b[K     |█████████████████▎              | 235 kB 5.1 MB/s eta 0:00:01\r\u001b[K     |██████████████████              | 245 kB 5.1 MB/s eta 0:00:01\r\u001b[K     |██████████████████▉             | 256 kB 5.1 MB/s eta 0:00:01\r\u001b[K     |███████████████████▋            | 266 kB 5.1 MB/s eta 0:00:01\r\u001b[K     |████████████████████▎           | 276 kB 5.1 MB/s eta 0:00:01\r\u001b[K     |█████████████████████           | 286 kB 5.1 MB/s eta 0:00:01\r\u001b[K     |█████████████████████▉          | 296 kB 5.1 MB/s eta 0:00:01\r\u001b[K     |██████████████████████▋         | 307 kB 5.1 MB/s eta 0:00:01\r\u001b[K     |███████████████████████▍        | 317 kB 5.1 MB/s eta 0:00:01\r\u001b[K     |████████████████████████        | 327 kB 5.1 MB/s eta 0:00:01\r\u001b[K     |████████████████████████▉       | 337 kB 5.1 MB/s eta 0:00:01\r\u001b[K     |█████████████████████████▋      | 348 kB 5.1 MB/s eta 0:00:01\r\u001b[K     |██████████████████████████▍     | 358 kB 5.1 MB/s eta 0:00:01\r\u001b[K     |███████████████████████████     | 368 kB 5.1 MB/s eta 0:00:01\r\u001b[K     |███████████████████████████▉    | 378 kB 5.1 MB/s eta 0:00:01\r\u001b[K     |████████████████████████████▋   | 389 kB 5.1 MB/s eta 0:00:01\r\u001b[K     |█████████████████████████████▍  | 399 kB 5.1 MB/s eta 0:00:01\r\u001b[K     |██████████████████████████████▏ | 409 kB 5.1 MB/s eta 0:00:01\r\u001b[K     |██████████████████████████████▉ | 419 kB 5.1 MB/s eta 0:00:01\r\u001b[K     |███████████████████████████████▋| 430 kB 5.1 MB/s eta 0:00:01\r\u001b[K     |████████████████████████████████| 435 kB 5.1 MB/s \n",
            "\u001b[?25hRequirement already satisfied: scikit-learn>=0.20 in /usr/local/lib/python3.7/dist-packages (from stellargraph) (1.0.2)\n",
            "Requirement already satisfied: matplotlib>=2.2 in /usr/local/lib/python3.7/dist-packages (from stellargraph) (3.2.2)\n",
            "Requirement already satisfied: tensorflow>=2.1.0 in /usr/local/lib/python3.7/dist-packages (from stellargraph) (2.7.0)\n",
            "Requirement already satisfied: numpy>=1.14 in /usr/local/lib/python3.7/dist-packages (from stellargraph) (1.19.5)\n",
            "Requirement already satisfied: pandas>=0.24 in /usr/local/lib/python3.7/dist-packages (from stellargraph) (1.3.5)\n",
            "Requirement already satisfied: networkx>=2.2 in /usr/local/lib/python3.7/dist-packages (from stellargraph) (2.6.3)\n",
            "Requirement already satisfied: scipy>=1.1.0 in /usr/local/lib/python3.7/dist-packages (from stellargraph) (1.4.1)\n",
            "Requirement already satisfied: gensim>=3.4.0 in /usr/local/lib/python3.7/dist-packages (from stellargraph) (3.6.0)\n",
            "Requirement already satisfied: six>=1.5.0 in /usr/local/lib/python3.7/dist-packages (from gensim>=3.4.0->stellargraph) (1.15.0)\n",
            "Requirement already satisfied: smart-open>=1.2.1 in /usr/local/lib/python3.7/dist-packages (from gensim>=3.4.0->stellargraph) (5.2.1)\n",
            "Requirement already satisfied: pyparsing!=2.0.4,!=2.1.2,!=2.1.6,>=2.0.1 in /usr/local/lib/python3.7/dist-packages (from matplotlib>=2.2->stellargraph) (3.0.7)\n",
            "Requirement already satisfied: kiwisolver>=1.0.1 in /usr/local/lib/python3.7/dist-packages (from matplotlib>=2.2->stellargraph) (1.3.2)\n",
            "Requirement already satisfied: cycler>=0.10 in /usr/local/lib/python3.7/dist-packages (from matplotlib>=2.2->stellargraph) (0.11.0)\n",
            "Requirement already satisfied: python-dateutil>=2.1 in /usr/local/lib/python3.7/dist-packages (from matplotlib>=2.2->stellargraph) (2.8.2)\n",
            "Requirement already satisfied: pytz>=2017.3 in /usr/local/lib/python3.7/dist-packages (from pandas>=0.24->stellargraph) (2018.9)\n",
            "Requirement already satisfied: joblib>=0.11 in /usr/local/lib/python3.7/dist-packages (from scikit-learn>=0.20->stellargraph) (1.1.0)\n",
            "Requirement already satisfied: threadpoolctl>=2.0.0 in /usr/local/lib/python3.7/dist-packages (from scikit-learn>=0.20->stellargraph) (3.0.0)\n",
            "Requirement already satisfied: h5py>=2.9.0 in /usr/local/lib/python3.7/dist-packages (from tensorflow>=2.1.0->stellargraph) (3.1.0)\n",
            "Requirement already satisfied: opt-einsum>=2.3.2 in /usr/local/lib/python3.7/dist-packages (from tensorflow>=2.1.0->stellargraph) (3.3.0)\n",
            "Requirement already satisfied: wrapt>=1.11.0 in /usr/local/lib/python3.7/dist-packages (from tensorflow>=2.1.0->stellargraph) (1.13.3)\n",
            "Requirement already satisfied: protobuf>=3.9.2 in /usr/local/lib/python3.7/dist-packages (from tensorflow>=2.1.0->stellargraph) (3.17.3)\n",
            "Requirement already satisfied: wheel<1.0,>=0.32.0 in /usr/local/lib/python3.7/dist-packages (from tensorflow>=2.1.0->stellargraph) (0.37.1)\n",
            "Requirement already satisfied: tensorflow-estimator<2.8,~=2.7.0rc0 in /usr/local/lib/python3.7/dist-packages (from tensorflow>=2.1.0->stellargraph) (2.7.0)\n",
            "Requirement already satisfied: typing-extensions>=3.6.6 in /usr/local/lib/python3.7/dist-packages (from tensorflow>=2.1.0->stellargraph) (3.10.0.2)\n",
            "Requirement already satisfied: gast<0.5.0,>=0.2.1 in /usr/local/lib/python3.7/dist-packages (from tensorflow>=2.1.0->stellargraph) (0.4.0)\n",
            "Requirement already satisfied: termcolor>=1.1.0 in /usr/local/lib/python3.7/dist-packages (from tensorflow>=2.1.0->stellargraph) (1.1.0)\n",
            "Requirement already satisfied: libclang>=9.0.1 in /usr/local/lib/python3.7/dist-packages (from tensorflow>=2.1.0->stellargraph) (13.0.0)\n",
            "Requirement already satisfied: tensorflow-io-gcs-filesystem>=0.21.0 in /usr/local/lib/python3.7/dist-packages (from tensorflow>=2.1.0->stellargraph) (0.23.1)\n",
            "Requirement already satisfied: keras<2.8,>=2.7.0rc0 in /usr/local/lib/python3.7/dist-packages (from tensorflow>=2.1.0->stellargraph) (2.7.0)\n",
            "Requirement already satisfied: google-pasta>=0.1.1 in /usr/local/lib/python3.7/dist-packages (from tensorflow>=2.1.0->stellargraph) (0.2.0)\n",
            "Requirement already satisfied: absl-py>=0.4.0 in /usr/local/lib/python3.7/dist-packages (from tensorflow>=2.1.0->stellargraph) (1.0.0)\n",
            "Requirement already satisfied: astunparse>=1.6.0 in /usr/local/lib/python3.7/dist-packages (from tensorflow>=2.1.0->stellargraph) (1.6.3)\n",
            "Requirement already satisfied: grpcio<2.0,>=1.24.3 in /usr/local/lib/python3.7/dist-packages (from tensorflow>=2.1.0->stellargraph) (1.43.0)\n",
            "Requirement already satisfied: flatbuffers<3.0,>=1.12 in /usr/local/lib/python3.7/dist-packages (from tensorflow>=2.1.0->stellargraph) (2.0)\n",
            "Requirement already satisfied: keras-preprocessing>=1.1.1 in /usr/local/lib/python3.7/dist-packages (from tensorflow>=2.1.0->stellargraph) (1.1.2)\n",
            "Requirement already satisfied: tensorboard~=2.6 in /usr/local/lib/python3.7/dist-packages (from tensorflow>=2.1.0->stellargraph) (2.7.0)\n",
            "Requirement already satisfied: cached-property in /usr/local/lib/python3.7/dist-packages (from h5py>=2.9.0->tensorflow>=2.1.0->stellargraph) (1.5.2)\n",
            "Requirement already satisfied: google-auth-oauthlib<0.5,>=0.4.1 in /usr/local/lib/python3.7/dist-packages (from tensorboard~=2.6->tensorflow>=2.1.0->stellargraph) (0.4.6)\n",
            "Requirement already satisfied: google-auth<3,>=1.6.3 in /usr/local/lib/python3.7/dist-packages (from tensorboard~=2.6->tensorflow>=2.1.0->stellargraph) (1.35.0)\n",
            "Requirement already satisfied: tensorboard-data-server<0.7.0,>=0.6.0 in /usr/local/lib/python3.7/dist-packages (from tensorboard~=2.6->tensorflow>=2.1.0->stellargraph) (0.6.1)\n",
            "Requirement already satisfied: setuptools>=41.0.0 in /usr/local/lib/python3.7/dist-packages (from tensorboard~=2.6->tensorflow>=2.1.0->stellargraph) (57.4.0)\n",
            "Requirement already satisfied: markdown>=2.6.8 in /usr/local/lib/python3.7/dist-packages (from tensorboard~=2.6->tensorflow>=2.1.0->stellargraph) (3.3.6)\n",
            "Requirement already satisfied: tensorboard-plugin-wit>=1.6.0 in /usr/local/lib/python3.7/dist-packages (from tensorboard~=2.6->tensorflow>=2.1.0->stellargraph) (1.8.1)\n",
            "Requirement already satisfied: werkzeug>=0.11.15 in /usr/local/lib/python3.7/dist-packages (from tensorboard~=2.6->tensorflow>=2.1.0->stellargraph) (1.0.1)\n",
            "Requirement already satisfied: requests<3,>=2.21.0 in /usr/local/lib/python3.7/dist-packages (from tensorboard~=2.6->tensorflow>=2.1.0->stellargraph) (2.23.0)\n",
            "Requirement already satisfied: cachetools<5.0,>=2.0.0 in /usr/local/lib/python3.7/dist-packages (from google-auth<3,>=1.6.3->tensorboard~=2.6->tensorflow>=2.1.0->stellargraph) (4.2.4)\n",
            "Requirement already satisfied: rsa<5,>=3.1.4 in /usr/local/lib/python3.7/dist-packages (from google-auth<3,>=1.6.3->tensorboard~=2.6->tensorflow>=2.1.0->stellargraph) (4.8)\n",
            "Requirement already satisfied: pyasn1-modules>=0.2.1 in /usr/local/lib/python3.7/dist-packages (from google-auth<3,>=1.6.3->tensorboard~=2.6->tensorflow>=2.1.0->stellargraph) (0.2.8)\n",
            "Requirement already satisfied: requests-oauthlib>=0.7.0 in /usr/local/lib/python3.7/dist-packages (from google-auth-oauthlib<0.5,>=0.4.1->tensorboard~=2.6->tensorflow>=2.1.0->stellargraph) (1.3.0)\n",
            "Requirement already satisfied: importlib-metadata>=4.4 in /usr/local/lib/python3.7/dist-packages (from markdown>=2.6.8->tensorboard~=2.6->tensorflow>=2.1.0->stellargraph) (4.10.1)\n",
            "Requirement already satisfied: zipp>=0.5 in /usr/local/lib/python3.7/dist-packages (from importlib-metadata>=4.4->markdown>=2.6.8->tensorboard~=2.6->tensorflow>=2.1.0->stellargraph) (3.7.0)\n",
            "Requirement already satisfied: pyasn1<0.5.0,>=0.4.6 in /usr/local/lib/python3.7/dist-packages (from pyasn1-modules>=0.2.1->google-auth<3,>=1.6.3->tensorboard~=2.6->tensorflow>=2.1.0->stellargraph) (0.4.8)\n",
            "Requirement already satisfied: idna<3,>=2.5 in /usr/local/lib/python3.7/dist-packages (from requests<3,>=2.21.0->tensorboard~=2.6->tensorflow>=2.1.0->stellargraph) (2.10)\n",
            "Requirement already satisfied: chardet<4,>=3.0.2 in /usr/local/lib/python3.7/dist-packages (from requests<3,>=2.21.0->tensorboard~=2.6->tensorflow>=2.1.0->stellargraph) (3.0.4)\n",
            "Requirement already satisfied: urllib3!=1.25.0,!=1.25.1,<1.26,>=1.21.1 in /usr/local/lib/python3.7/dist-packages (from requests<3,>=2.21.0->tensorboard~=2.6->tensorflow>=2.1.0->stellargraph) (1.24.3)\n",
            "Requirement already satisfied: certifi>=2017.4.17 in /usr/local/lib/python3.7/dist-packages (from requests<3,>=2.21.0->tensorboard~=2.6->tensorflow>=2.1.0->stellargraph) (2021.10.8)\n",
            "Requirement already satisfied: oauthlib>=3.0.0 in /usr/local/lib/python3.7/dist-packages (from requests-oauthlib>=0.7.0->google-auth-oauthlib<0.5,>=0.4.1->tensorboard~=2.6->tensorflow>=2.1.0->stellargraph) (3.1.1)\n",
            "Installing collected packages: stellargraph\n",
            "Successfully installed stellargraph-1.2.1\n"
          ]
        }
      ],
      "source": [
        "pip install stellargraph"
      ]
    },
    {
      "cell_type": "code",
      "execution_count": 14,
      "metadata": {
        "id": "AXnyTRWYOBeq"
      },
      "outputs": [],
      "source": [
        "from stellargraph.data import BiasedRandomWalk"
      ]
    },
    {
      "cell_type": "code",
      "execution_count": 16,
      "metadata": {
        "id": "pzLMCJvdOBay",
        "colab": {
          "base_uri": "https://localhost:8080/",
          "height": 323
        },
        "outputId": "7618fe60-b924-4b2b-ea2e-7b79abdd0cb9"
      },
      "outputs": [
        {
          "output_type": "error",
          "ename": "TypeError",
          "evalue": "ignored",
          "traceback": [
            "\u001b[0;31m---------------------------------------------------------------------------\u001b[0m",
            "\u001b[0;31mTypeError\u001b[0m                                 Traceback (most recent call last)",
            "\u001b[0;32m<ipython-input-16-315f6fed9a9e>\u001b[0m in \u001b[0;36m<module>\u001b[0;34m()\u001b[0m\n\u001b[0;32m----> 1\u001b[0;31m \u001b[0mrw\u001b[0m \u001b[0;34m=\u001b[0m \u001b[0mBiasedRandomWalk\u001b[0m\u001b[0;34m(\u001b[0m\u001b[0mG\u001b[0m\u001b[0;34m)\u001b[0m\u001b[0;34m\u001b[0m\u001b[0;34m\u001b[0m\u001b[0m\n\u001b[0m",
            "\u001b[0;32m/usr/local/lib/python3.7/dist-packages/stellargraph/data/explorer.py\u001b[0m in \u001b[0;36m__init__\u001b[0;34m(self, graph, n, length, p, q, weighted, seed)\u001b[0m\n\u001b[1;32m    385\u001b[0m         \u001b[0mself\u001b[0m\u001b[0;34m,\u001b[0m \u001b[0mgraph\u001b[0m\u001b[0;34m,\u001b[0m \u001b[0mn\u001b[0m\u001b[0;34m=\u001b[0m\u001b[0;32mNone\u001b[0m\u001b[0;34m,\u001b[0m \u001b[0mlength\u001b[0m\u001b[0;34m=\u001b[0m\u001b[0;32mNone\u001b[0m\u001b[0;34m,\u001b[0m \u001b[0mp\u001b[0m\u001b[0;34m=\u001b[0m\u001b[0;36m1.0\u001b[0m\u001b[0;34m,\u001b[0m \u001b[0mq\u001b[0m\u001b[0;34m=\u001b[0m\u001b[0;36m1.0\u001b[0m\u001b[0;34m,\u001b[0m \u001b[0mweighted\u001b[0m\u001b[0;34m=\u001b[0m\u001b[0;32mFalse\u001b[0m\u001b[0;34m,\u001b[0m \u001b[0mseed\u001b[0m\u001b[0;34m=\u001b[0m\u001b[0;32mNone\u001b[0m\u001b[0;34m,\u001b[0m\u001b[0;34m\u001b[0m\u001b[0;34m\u001b[0m\u001b[0m\n\u001b[1;32m    386\u001b[0m     ):\n\u001b[0;32m--> 387\u001b[0;31m         \u001b[0msuper\u001b[0m\u001b[0;34m(\u001b[0m\u001b[0;34m)\u001b[0m\u001b[0;34m.\u001b[0m\u001b[0m__init__\u001b[0m\u001b[0;34m(\u001b[0m\u001b[0mgraph\u001b[0m\u001b[0;34m,\u001b[0m \u001b[0mseed\u001b[0m\u001b[0;34m=\u001b[0m\u001b[0mseed\u001b[0m\u001b[0;34m)\u001b[0m\u001b[0;34m\u001b[0m\u001b[0;34m\u001b[0m\u001b[0m\n\u001b[0m\u001b[1;32m    388\u001b[0m         \u001b[0mself\u001b[0m\u001b[0;34m.\u001b[0m\u001b[0mn\u001b[0m \u001b[0;34m=\u001b[0m \u001b[0mn\u001b[0m\u001b[0;34m\u001b[0m\u001b[0;34m\u001b[0m\u001b[0m\n\u001b[1;32m    389\u001b[0m         \u001b[0mself\u001b[0m\u001b[0;34m.\u001b[0m\u001b[0mlength\u001b[0m \u001b[0;34m=\u001b[0m \u001b[0mlength\u001b[0m\u001b[0;34m\u001b[0m\u001b[0;34m\u001b[0m\u001b[0m\n",
            "\u001b[0;32m/usr/local/lib/python3.7/dist-packages/stellargraph/data/explorer.py\u001b[0m in \u001b[0;36m__init__\u001b[0;34m(self, graph, seed)\u001b[0m\n\u001b[1;32m     58\u001b[0m     \u001b[0;32mdef\u001b[0m \u001b[0m__init__\u001b[0m\u001b[0;34m(\u001b[0m\u001b[0mself\u001b[0m\u001b[0;34m,\u001b[0m \u001b[0mgraph\u001b[0m\u001b[0;34m,\u001b[0m \u001b[0mseed\u001b[0m\u001b[0;34m=\u001b[0m\u001b[0;32mNone\u001b[0m\u001b[0;34m)\u001b[0m\u001b[0;34m:\u001b[0m\u001b[0;34m\u001b[0m\u001b[0;34m\u001b[0m\u001b[0m\n\u001b[1;32m     59\u001b[0m         \u001b[0;32mif\u001b[0m \u001b[0;32mnot\u001b[0m \u001b[0misinstance\u001b[0m\u001b[0;34m(\u001b[0m\u001b[0mgraph\u001b[0m\u001b[0;34m,\u001b[0m \u001b[0mStellarGraph\u001b[0m\u001b[0;34m)\u001b[0m\u001b[0;34m:\u001b[0m\u001b[0;34m\u001b[0m\u001b[0;34m\u001b[0m\u001b[0m\n\u001b[0;32m---> 60\u001b[0;31m             \u001b[0;32mraise\u001b[0m \u001b[0mTypeError\u001b[0m\u001b[0;34m(\u001b[0m\u001b[0;34m\"Graph must be a StellarGraph or StellarDiGraph.\"\u001b[0m\u001b[0;34m)\u001b[0m\u001b[0;34m\u001b[0m\u001b[0;34m\u001b[0m\u001b[0m\n\u001b[0m\u001b[1;32m     61\u001b[0m \u001b[0;34m\u001b[0m\u001b[0m\n\u001b[1;32m     62\u001b[0m         \u001b[0mself\u001b[0m\u001b[0;34m.\u001b[0m\u001b[0mgraph\u001b[0m \u001b[0;34m=\u001b[0m \u001b[0mgraph\u001b[0m\u001b[0;34m\u001b[0m\u001b[0;34m\u001b[0m\u001b[0m\n",
            "\u001b[0;31mTypeError\u001b[0m: Graph must be a StellarGraph or StellarDiGraph."
          ]
        }
      ],
      "source": [
        "rw = BiasedRandomWalk(G)\n"
      ]
    },
    {
      "cell_type": "code",
      "execution_count": null,
      "metadata": {
        "id": "JyZt63rmOBWj"
      },
      "outputs": [],
      "source": [
        ""
      ]
    },
    {
      "cell_type": "code",
      "execution_count": null,
      "metadata": {
        "id": "d3lG5Bt8OBTo"
      },
      "outputs": [],
      "source": [
        ""
      ]
    },
    {
      "cell_type": "code",
      "execution_count": null,
      "metadata": {
        "id": "0aix2_a1OBHM"
      },
      "outputs": [],
      "source": [
        ""
      ]
    },
    {
      "cell_type": "code",
      "execution_count": null,
      "metadata": {
        "colab": {
          "base_uri": "https://localhost:8080/",
          "height": 129
        },
        "id": "BQrWDSXuNgfq",
        "outputId": "4455fcd1-43e2-4ebb-8f4b-65726ec4af21"
      },
      "outputs": [
        {
          "ename": "SyntaxError",
          "evalue": "ignored",
          "output_type": "error",
          "traceback": [
            "\u001b[0;36m  File \u001b[0;32m\"<ipython-input-16-58dbd899648e>\"\u001b[0;36m, line \u001b[0;32m1\u001b[0m\n\u001b[0;31m    function ConnectButton(){\u001b[0m\n\u001b[0m                         ^\u001b[0m\n\u001b[0;31mSyntaxError\u001b[0m\u001b[0;31m:\u001b[0m invalid syntax\n"
          ]
        }
      ],
      "source": [
        ""
      ]
    },
    {
      "cell_type": "code",
      "execution_count": null,
      "metadata": {
        "colab": {
          "base_uri": "https://localhost:8080/",
          "height": 163
        },
        "id": "pf3y9oofNuUr",
        "outputId": "57c59122-5c3b-4cb6-f958-e482440ad40d"
      },
      "outputs": [
        {
          "ename": "KeyboardInterrupt",
          "evalue": "ignored",
          "output_type": "error",
          "traceback": [
            "\u001b[0;31m---------------------------------------------------------------------------\u001b[0m",
            "\u001b[0;31mKeyboardInterrupt\u001b[0m                         Traceback (most recent call last)",
            "\u001b[0;32m<ipython-input-17-534b7a74019f>\u001b[0m in \u001b[0;36m<module>\u001b[0;34m()\u001b[0m\n\u001b[0;32m----> 1\u001b[0;31m \u001b[0;32mwhile\u001b[0m \u001b[0;32mTrue\u001b[0m\u001b[0;34m:\u001b[0m\u001b[0;32mpass\u001b[0m\u001b[0;34m\u001b[0m\u001b[0;34m\u001b[0m\u001b[0m\n\u001b[0m",
            "\u001b[0;31mKeyboardInterrupt\u001b[0m: "
          ]
        }
      ],
      "source": [
        "while True:pass"
      ]
    },
    {
      "cell_type": "code",
      "execution_count": null,
      "metadata": {
        "id": "ECJoMYtOOCFF"
      },
      "outputs": [],
      "source": [
        ""
      ]
    }
  ],
  "metadata": {
    "accelerator": "GPU",
    "colab": {
      "name": "Node2Vec_GraphEmbedding.ipynb",
      "provenance": []
    },
    "kernelspec": {
      "display_name": "Python 3",
      "name": "python3"
    },
    "language_info": {
      "name": "python"
    },
    "widgets": {
      "application/vnd.jupyter.widget-state+json": {
        "27853c2d95e64bfeabbfd05ba572f6ae": {
          "model_module": "@jupyter-widgets/controls",
          "model_module_version": "1.5.0",
          "model_name": "ProgressStyleModel",
          "state": {
            "_model_module": "@jupyter-widgets/controls",
            "_model_module_version": "1.5.0",
            "_model_name": "ProgressStyleModel",
            "_view_count": null,
            "_view_module": "@jupyter-widgets/base",
            "_view_module_version": "1.2.0",
            "_view_name": "StyleView",
            "bar_color": null,
            "description_width": ""
          }
        },
        "49625721d78249b69fbbbd67db6b6bc0": {
          "model_module": "@jupyter-widgets/controls",
          "model_module_version": "1.5.0",
          "model_name": "FloatProgressModel",
          "state": {
            "_dom_classes": [],
            "_model_module": "@jupyter-widgets/controls",
            "_model_module_version": "1.5.0",
            "_model_name": "FloatProgressModel",
            "_view_count": null,
            "_view_module": "@jupyter-widgets/controls",
            "_view_module_version": "1.5.0",
            "_view_name": "ProgressView",
            "bar_style": "",
            "description": "",
            "description_tooltip": null,
            "layout": "IPY_MODEL_dd0a41613b34419e98fc21ceafcc3bfb",
            "max": 9929,
            "min": 0,
            "orientation": "horizontal",
            "style": "IPY_MODEL_27853c2d95e64bfeabbfd05ba572f6ae",
            "value": 0
          }
        },
        "541ed938a22341f9b675a75f085036b4": {
          "model_module": "@jupyter-widgets/base",
          "model_module_version": "1.2.0",
          "model_name": "LayoutModel",
          "state": {
            "_model_module": "@jupyter-widgets/base",
            "_model_module_version": "1.2.0",
            "_model_name": "LayoutModel",
            "_view_count": null,
            "_view_module": "@jupyter-widgets/base",
            "_view_module_version": "1.2.0",
            "_view_name": "LayoutView",
            "align_content": null,
            "align_items": null,
            "align_self": null,
            "border": null,
            "bottom": null,
            "display": null,
            "flex": null,
            "flex_flow": null,
            "grid_area": null,
            "grid_auto_columns": null,
            "grid_auto_flow": null,
            "grid_auto_rows": null,
            "grid_column": null,
            "grid_gap": null,
            "grid_row": null,
            "grid_template_areas": null,
            "grid_template_columns": null,
            "grid_template_rows": null,
            "height": null,
            "justify_content": null,
            "justify_items": null,
            "left": null,
            "margin": null,
            "max_height": null,
            "max_width": null,
            "min_height": null,
            "min_width": null,
            "object_fit": null,
            "object_position": null,
            "order": null,
            "overflow": null,
            "overflow_x": null,
            "overflow_y": null,
            "padding": null,
            "right": null,
            "top": null,
            "visibility": null,
            "width": null
          }
        },
        "6741b6698cc040368d05bcfc9f8d5d5a": {
          "model_module": "@jupyter-widgets/controls",
          "model_module_version": "1.5.0",
          "model_name": "DescriptionStyleModel",
          "state": {
            "_model_module": "@jupyter-widgets/controls",
            "_model_module_version": "1.5.0",
            "_model_name": "DescriptionStyleModel",
            "_view_count": null,
            "_view_module": "@jupyter-widgets/base",
            "_view_module_version": "1.2.0",
            "_view_name": "StyleView",
            "description_width": ""
          }
        },
        "7f54e30cdbab4c3f800228c908f534dc": {
          "model_module": "@jupyter-widgets/base",
          "model_module_version": "1.2.0",
          "model_name": "LayoutModel",
          "state": {
            "_model_module": "@jupyter-widgets/base",
            "_model_module_version": "1.2.0",
            "_model_name": "LayoutModel",
            "_view_count": null,
            "_view_module": "@jupyter-widgets/base",
            "_view_module_version": "1.2.0",
            "_view_name": "LayoutView",
            "align_content": null,
            "align_items": null,
            "align_self": null,
            "border": null,
            "bottom": null,
            "display": null,
            "flex": null,
            "flex_flow": null,
            "grid_area": null,
            "grid_auto_columns": null,
            "grid_auto_flow": null,
            "grid_auto_rows": null,
            "grid_column": null,
            "grid_gap": null,
            "grid_row": null,
            "grid_template_areas": null,
            "grid_template_columns": null,
            "grid_template_rows": null,
            "height": null,
            "justify_content": null,
            "justify_items": null,
            "left": null,
            "margin": null,
            "max_height": null,
            "max_width": null,
            "min_height": null,
            "min_width": null,
            "object_fit": null,
            "object_position": null,
            "order": null,
            "overflow": null,
            "overflow_x": null,
            "overflow_y": null,
            "padding": null,
            "right": null,
            "top": null,
            "visibility": null,
            "width": null
          }
        },
        "be17966f45254aebb1cdfd8f966ffb32": {
          "model_module": "@jupyter-widgets/controls",
          "model_module_version": "1.5.0",
          "model_name": "HTMLModel",
          "state": {
            "_dom_classes": [],
            "_model_module": "@jupyter-widgets/controls",
            "_model_module_version": "1.5.0",
            "_model_name": "HTMLModel",
            "_view_count": null,
            "_view_module": "@jupyter-widgets/controls",
            "_view_module_version": "1.5.0",
            "_view_name": "HTMLView",
            "description": "",
            "description_tooltip": null,
            "layout": "IPY_MODEL_f59e0f5770374739821cbe263046ebd1",
            "placeholder": "​",
            "style": "IPY_MODEL_be84ab8df87b426f9fbaa15b6d61f1e3",
            "value": "Computing transition probabilities:   0%"
          }
        },
        "be84ab8df87b426f9fbaa15b6d61f1e3": {
          "model_module": "@jupyter-widgets/controls",
          "model_module_version": "1.5.0",
          "model_name": "DescriptionStyleModel",
          "state": {
            "_model_module": "@jupyter-widgets/controls",
            "_model_module_version": "1.5.0",
            "_model_name": "DescriptionStyleModel",
            "_view_count": null,
            "_view_module": "@jupyter-widgets/base",
            "_view_module_version": "1.2.0",
            "_view_name": "StyleView",
            "description_width": ""
          }
        },
        "dd0a41613b34419e98fc21ceafcc3bfb": {
          "model_module": "@jupyter-widgets/base",
          "model_module_version": "1.2.0",
          "model_name": "LayoutModel",
          "state": {
            "_model_module": "@jupyter-widgets/base",
            "_model_module_version": "1.2.0",
            "_model_name": "LayoutModel",
            "_view_count": null,
            "_view_module": "@jupyter-widgets/base",
            "_view_module_version": "1.2.0",
            "_view_name": "LayoutView",
            "align_content": null,
            "align_items": null,
            "align_self": null,
            "border": null,
            "bottom": null,
            "display": null,
            "flex": null,
            "flex_flow": null,
            "grid_area": null,
            "grid_auto_columns": null,
            "grid_auto_flow": null,
            "grid_auto_rows": null,
            "grid_column": null,
            "grid_gap": null,
            "grid_row": null,
            "grid_template_areas": null,
            "grid_template_columns": null,
            "grid_template_rows": null,
            "height": null,
            "justify_content": null,
            "justify_items": null,
            "left": null,
            "margin": null,
            "max_height": null,
            "max_width": null,
            "min_height": null,
            "min_width": null,
            "object_fit": null,
            "object_position": null,
            "order": null,
            "overflow": null,
            "overflow_x": null,
            "overflow_y": null,
            "padding": null,
            "right": null,
            "top": null,
            "visibility": null,
            "width": null
          }
        },
        "e8a0514c55b3430fbca8cc79fb412c5c": {
          "model_module": "@jupyter-widgets/controls",
          "model_module_version": "1.5.0",
          "model_name": "HBoxModel",
          "state": {
            "_dom_classes": [],
            "_model_module": "@jupyter-widgets/controls",
            "_model_module_version": "1.5.0",
            "_model_name": "HBoxModel",
            "_view_count": null,
            "_view_module": "@jupyter-widgets/controls",
            "_view_module_version": "1.5.0",
            "_view_name": "HBoxView",
            "box_style": "",
            "children": [
              "IPY_MODEL_be17966f45254aebb1cdfd8f966ffb32",
              "IPY_MODEL_49625721d78249b69fbbbd67db6b6bc0",
              "IPY_MODEL_f22d1ef0c42c46099b05fb5b09abf371"
            ],
            "layout": "IPY_MODEL_7f54e30cdbab4c3f800228c908f534dc"
          }
        },
        "f22d1ef0c42c46099b05fb5b09abf371": {
          "model_module": "@jupyter-widgets/controls",
          "model_module_version": "1.5.0",
          "model_name": "HTMLModel",
          "state": {
            "_dom_classes": [],
            "_model_module": "@jupyter-widgets/controls",
            "_model_module_version": "1.5.0",
            "_model_name": "HTMLModel",
            "_view_count": null,
            "_view_module": "@jupyter-widgets/controls",
            "_view_module_version": "1.5.0",
            "_view_name": "HTMLView",
            "description": "",
            "description_tooltip": null,
            "layout": "IPY_MODEL_541ed938a22341f9b675a75f085036b4",
            "placeholder": "​",
            "style": "IPY_MODEL_6741b6698cc040368d05bcfc9f8d5d5a",
            "value": " 0/9929 [00:00&lt;?, ?it/s]"
          }
        },
        "f59e0f5770374739821cbe263046ebd1": {
          "model_module": "@jupyter-widgets/base",
          "model_module_version": "1.2.0",
          "model_name": "LayoutModel",
          "state": {
            "_model_module": "@jupyter-widgets/base",
            "_model_module_version": "1.2.0",
            "_model_name": "LayoutModel",
            "_view_count": null,
            "_view_module": "@jupyter-widgets/base",
            "_view_module_version": "1.2.0",
            "_view_name": "LayoutView",
            "align_content": null,
            "align_items": null,
            "align_self": null,
            "border": null,
            "bottom": null,
            "display": null,
            "flex": null,
            "flex_flow": null,
            "grid_area": null,
            "grid_auto_columns": null,
            "grid_auto_flow": null,
            "grid_auto_rows": null,
            "grid_column": null,
            "grid_gap": null,
            "grid_row": null,
            "grid_template_areas": null,
            "grid_template_columns": null,
            "grid_template_rows": null,
            "height": null,
            "justify_content": null,
            "justify_items": null,
            "left": null,
            "margin": null,
            "max_height": null,
            "max_width": null,
            "min_height": null,
            "min_width": null,
            "object_fit": null,
            "object_position": null,
            "order": null,
            "overflow": null,
            "overflow_x": null,
            "overflow_y": null,
            "padding": null,
            "right": null,
            "top": null,
            "visibility": null,
            "width": null
          }
        }
      }
    }
  },
  "nbformat": 4,
  "nbformat_minor": 0
}