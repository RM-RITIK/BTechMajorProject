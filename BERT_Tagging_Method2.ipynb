{
 "cells": [
  {
   "cell_type": "code",
   "execution_count": 169,
   "metadata": {},
   "outputs": [],
   "source": [
    "text=\"Video-oculography (VOG) is one of eye movement measurement methods. A key problem of VOG is to accurately estimate the pupil center. Then a pupil location method based on morphology and Canny algorithm was proposed for a WIFI-based VOG system which was developed our latest work. Moreover, a healthy volunteer was introduced to do sinusoidal tracking test to evaluate the pupil location method. Experimental results showed that the method could well trace eye movement and meet the anticipated results with stimulation.\""
   ]
  },
  {
   "cell_type": "code",
   "execution_count": 170,
   "metadata": {},
   "outputs": [],
   "source": [
    "keywords=\"['accurately estimate the pupil center', 'Canny algorithm', 'evaluate the pupil location method', 'eye movement measurement', 'eye movement measurement methods', 'healthy volunteer', 'morphology', 'pupil location method', 'sinusoidal tracking test', 'stimulation', 'trace eye movement', 'Video-oculography', 'VOG', 'WIFI-based VOG system']\""
   ]
  },
  {
   "cell_type": "code",
   "execution_count": 171,
   "metadata": {},
   "outputs": [],
   "source": [
    "if(text[len(text)-1]==\".\"):\n",
    "    text=text[:len(text)-1]\n",
    "    \n",
    "\n",
    "keywords=keywords[1:len(keywords)-1]"
   ]
  },
  {
   "cell_type": "code",
   "execution_count": 172,
   "metadata": {},
   "outputs": [
    {
     "data": {
      "text/plain": [
       "\"'accurately estimate the pupil center', 'Canny algorithm', 'evaluate the pupil location method', 'eye movement measurement', 'eye movement measurement methods', 'healthy volunteer', 'morphology', 'pupil location method', 'sinusoidal tracking test', 'stimulation', 'trace eye movement', 'Video-oculography', 'VOG', 'WIFI-based VOG system'\""
      ]
     },
     "execution_count": 172,
     "metadata": {},
     "output_type": "execute_result"
    }
   ],
   "source": [
    "keywords"
   ]
  },
  {
   "cell_type": "code",
   "execution_count": 173,
   "metadata": {},
   "outputs": [],
   "source": [
    "words_in_text= text.split(\" \")"
   ]
  },
  {
   "cell_type": "code",
   "execution_count": 174,
   "metadata": {},
   "outputs": [
    {
     "data": {
      "text/plain": [
       "['Video-oculography',\n",
       " '(VOG)',\n",
       " 'is',\n",
       " 'one',\n",
       " 'of',\n",
       " 'eye',\n",
       " 'movement',\n",
       " 'measurement',\n",
       " 'methods.',\n",
       " 'A',\n",
       " 'key',\n",
       " 'problem',\n",
       " 'of',\n",
       " 'VOG',\n",
       " 'is',\n",
       " 'to',\n",
       " 'accurately',\n",
       " 'estimate',\n",
       " 'the',\n",
       " 'pupil',\n",
       " 'center.',\n",
       " 'Then',\n",
       " 'a',\n",
       " 'pupil',\n",
       " 'location',\n",
       " 'method',\n",
       " 'based',\n",
       " 'on',\n",
       " 'morphology',\n",
       " 'and',\n",
       " 'Canny',\n",
       " 'algorithm',\n",
       " 'was',\n",
       " 'proposed',\n",
       " 'for',\n",
       " 'a',\n",
       " 'WIFI-based',\n",
       " 'VOG',\n",
       " 'system',\n",
       " 'which',\n",
       " 'was',\n",
       " 'developed',\n",
       " 'our',\n",
       " 'latest',\n",
       " 'work.',\n",
       " 'Moreover,',\n",
       " 'a',\n",
       " 'healthy',\n",
       " 'volunteer',\n",
       " 'was',\n",
       " 'introduced',\n",
       " 'to',\n",
       " 'do',\n",
       " 'sinusoidal',\n",
       " 'tracking',\n",
       " 'test',\n",
       " 'to',\n",
       " 'evaluate',\n",
       " 'the',\n",
       " 'pupil',\n",
       " 'location',\n",
       " 'method.',\n",
       " 'Experimental',\n",
       " 'results',\n",
       " 'showed',\n",
       " 'that',\n",
       " 'the',\n",
       " 'method',\n",
       " 'could',\n",
       " 'well',\n",
       " 'trace',\n",
       " 'eye',\n",
       " 'movement',\n",
       " 'and',\n",
       " 'meet',\n",
       " 'the',\n",
       " 'anticipated',\n",
       " 'results',\n",
       " 'with',\n",
       " 'stimulation']"
      ]
     },
     "execution_count": 174,
     "metadata": {},
     "output_type": "execute_result"
    }
   ],
   "source": [
    "words_in_text"
   ]
  },
  {
   "cell_type": "code",
   "execution_count": 175,
   "metadata": {},
   "outputs": [],
   "source": [
    "list2=words_in_text"
   ]
  },
  {
   "cell_type": "code",
   "execution_count": 176,
   "metadata": {},
   "outputs": [],
   "source": [
    "keyword_list= keywords.split(\",\")"
   ]
  },
  {
   "cell_type": "code",
   "execution_count": 177,
   "metadata": {},
   "outputs": [
    {
     "name": "stdout",
     "output_type": "stream",
     "text": [
      "[\"'accurately estimate the pupil center'\", \" 'Canny algorithm'\", \" 'evaluate the pupil location method'\", \" 'eye movement measurement'\", \" 'eye movement measurement methods'\", \" 'healthy volunteer'\", \" 'morphology'\", \" 'pupil location method'\", \" 'sinusoidal tracking test'\", \" 'stimulation'\", \" 'trace eye movement'\", \" 'Video-oculography'\", \" 'VOG'\", \" 'WIFI-based VOG system'\"]\n"
     ]
    }
   ],
   "source": [
    "print(keyword_list)"
   ]
  },
  {
   "cell_type": "code",
   "execution_count": 178,
   "metadata": {},
   "outputs": [
    {
     "name": "stdout",
     "output_type": "stream",
     "text": [
      "['accurately', 'estimate', 'the', 'pupil', 'center']\n",
      "['Canny', 'algorithm']\n",
      "['evaluate', 'the', 'pupil', 'location', 'method']\n",
      "['eye', 'movement', 'measurement']\n",
      "['eye', 'movement', 'measurement', 'methods']\n",
      "['healthy', 'volunteer']\n",
      "['morphology']\n",
      "['pupil', 'location', 'method']\n",
      "['sinusoidal', 'tracking', 'test']\n",
      "['stimulation']\n",
      "['trace', 'eye', 'movement']\n",
      "['Video-oculography']\n",
      "['VOG']\n",
      "['WIFI-based', 'VOG', 'system']\n"
     ]
    }
   ],
   "source": [
    "for str in keyword_list:\n",
    "    str=str.replace(\"'\" ,\"\")\n",
    "    str=str.strip()\n",
    "    words_in_str=str.split(\" \")\n",
    "#     if words_in_str[0] in list2:\n",
    "    print(words_in_str)\n",
    "    index=list2.index(words_in_str[0])\n",
    "    if(check_substring(list2,words_in_str ,index)):\n",
    "        list2[index]='B'\n",
    "        count=1\n",
    "        for i in range(len(words_in_str)-1):\n",
    "            list2[index+count]='I'\n",
    "            count+=1\n",
    "  "
   ]
  },
  {
   "cell_type": "code",
   "execution_count": 179,
   "metadata": {},
   "outputs": [],
   "source": [
    "def check_substring(text_list , word_list , index):\n",
    "    count=0\n",
    "    for i in range(len(word_list)):\n",
    "        if((i+count>len(text_list))or text_list[index+count]!=word_list[count]):\n",
    "            return False\n",
    "        count+=1\n",
    "    return True\n",
    "            "
   ]
  },
  {
   "cell_type": "code",
   "execution_count": null,
   "metadata": {},
   "outputs": [],
   "source": []
  },
  {
   "cell_type": "code",
   "execution_count": 180,
   "metadata": {
    "scrolled": true
   },
   "outputs": [
    {
     "name": "stdout",
     "output_type": "stream",
     "text": [
      "['B', '(VOG)', 'is', 'one', 'of', 'B', 'I', 'I', 'methods.', 'A', 'key', 'problem', 'of', 'B', 'is', 'to', 'accurately', 'estimate', 'the', 'pupil', 'center.', 'Then', 'a', 'pupil', 'location', 'method', 'based', 'on', 'B', 'and', 'B', 'I', 'was', 'proposed', 'for', 'a', 'B', 'I', 'I', 'which', 'was', 'developed', 'our', 'latest', 'work.', 'Moreover,', 'a', 'B', 'I', 'was', 'introduced', 'to', 'do', 'B', 'I', 'I', 'to', 'evaluate', 'the', 'pupil', 'location', 'method.', 'Experimental', 'results', 'showed', 'that', 'the', 'method', 'could', 'well', 'B', 'I', 'I', 'and', 'meet', 'the', 'anticipated', 'results', 'with', 'B']\n"
     ]
    }
   ],
   "source": [
    "print(list2)"
   ]
  },
  {
   "cell_type": "code",
   "execution_count": 181,
   "metadata": {},
   "outputs": [],
   "source": [
    "new_string=\"\"\n",
    "for word in list2:\n",
    "    if(word==\"B\" or word==\"I\"):\n",
    "            new_string+=word+\" \"\n",
    "    else:\n",
    "        new_string+=\"O\"+\" \"\n",
    "    "
   ]
  },
  {
   "cell_type": "code",
   "execution_count": 182,
   "metadata": {},
   "outputs": [
    {
     "name": "stdout",
     "output_type": "stream",
     "text": [
      "B O O O O B I I O O O O O B O O O O O O O O O O O O O O B O B I O O O O B I I O O O O O O O O B I O O O O B I I O O O O O O O O O O O O O O B I I O O O O O O B \n"
     ]
    }
   ],
   "source": [
    "print(new_string)"
   ]
  },
  {
   "cell_type": "code",
   "execution_count": null,
   "metadata": {},
   "outputs": [],
   "source": []
  },
  {
   "cell_type": "code",
   "execution_count": null,
   "metadata": {},
   "outputs": [],
   "source": []
  },
  {
   "cell_type": "code",
   "execution_count": null,
   "metadata": {},
   "outputs": [],
   "source": []
  }
 ],
 "metadata": {
  "kernelspec": {
   "display_name": "Python 3",
   "language": "python",
   "name": "python3"
  },
  "language_info": {
   "codemirror_mode": {
    "name": "ipython",
    "version": 3
   },
   "file_extension": ".py",
   "mimetype": "text/x-python",
   "name": "python",
   "nbconvert_exporter": "python",
   "pygments_lexer": "ipython3",
   "version": "3.8.5"
  }
 },
 "nbformat": 4,
 "nbformat_minor": 4
}
